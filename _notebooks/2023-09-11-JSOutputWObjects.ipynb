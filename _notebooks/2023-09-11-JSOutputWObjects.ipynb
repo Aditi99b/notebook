{
 "cells": [
  {
   "cell_type": "markdown",
   "metadata": {},
   "source": [
    "---\n",
    "toc: true\n",
    "comments: false\n",
    "layout: post\n",
    "title: JS Output with Objects\n",
    "description: Two different tables showing information we collected on dogs!  \n",
    "type: hacks\n",
    "courses: { compsci: {week: 3} }\n",
    "---"
   ]
  },
  {
   "cell_type": "code",
   "execution_count": 1,
   "metadata": {},
   "outputs": [
    {
     "data": {
      "application/javascript": "console.log(\"Dogs\");\n\nclass Dog {\n  constructor(species, weight, height, color) {\n    this.species = species;\n    this.weight = weight;\n    this.height = height;\n    this.color = color;\n  }\n\n  getJSON() {\n    const obj = {\n      type: typeof this,\n      species: this.species,\n      weight: this.weight,\n      height: this.height,\n      color: this.color\n    };\n    return obj;\n  }\n\n  logIt() {\n    console.log(this);\n  }\n}\n\nfunction constructDog() {\n  const dogs = [\n    new Dog(\"Golden Retriever\", 55, 202, \"Blonde\"),\n    new Dog(\"German Shepherd\", 49, 22, \"Black and Tan\"),\n    new Dog(\"Border Collie\", 27, 18, \"Black\"),\n    new Dog(\"Husky\", 35, 20, \"Gray and White\"),\n    new Dog(\"Labrador Retriever\", 25, 22, \"Blonde\"),\n    new Dog(\"Corgi\", 26, 9.8, \"Brown\")\n  ];\n\n  return dogs;\n}\n\nfunction generateDogTable(dogs) {\n  const table = document.createElement(\"table\");\n  table.innerHTML = `\n    <tr>\n      <th>Species</th>\n      <th>Weight</th>\n      <th>Height</th>\n      <th>Color</th> <!-- Corrected \"color\" header -->\n    </tr>\n  `;\n  \n  dogs.forEach(dog => {\n    const row = table.insertRow();\n    row.insertCell().textContent = dog.species;\n    row.insertCell().textContent = dog.weight;\n    row.insertCell().textContent = dog.height;\n    row.insertCell().textContent = dog.color;\n  });\n\n  return table;\n}\n\nconst dogs = constructDog();\ndogs.forEach(dog => {\n  dog.logIt();\n});\n\nconst table = generateDogTable(dogs);\n",
      "text/plain": [
       "<IPython.core.display.Javascript object>"
      ]
     },
     "metadata": {},
     "output_type": "display_data"
    }
   ],
   "source": [
    "%%js\n",
    "console.log(\"Dogs\");\n",
    "\n",
    "class Dog {\n",
    "  constructor(species, weight, height, color) {\n",
    "    this.species = species;\n",
    "    this.weight = weight;\n",
    "    this.height = height;\n",
    "    this.color = color;\n",
    "  }\n",
    "\n",
    "  getJSON() {\n",
    "    const obj = {\n",
    "      type: typeof this,\n",
    "      species: this.species,\n",
    "      weight: this.weight,\n",
    "      height: this.height,\n",
    "      color: this.color\n",
    "    };\n",
    "    return obj;\n",
    "  }\n",
    "\n",
    "  logIt() {\n",
    "    console.log(this);\n",
    "  }\n",
    "}\n",
    "\n",
    "function constructDog() {\n",
    "  const dogs = [\n",
    "    new Dog(\"Golden Retriever\", 55, 202, \"Blonde\"),\n",
    "    new Dog(\"German Shepherd\", 49, 22, \"Black and Tan\"),\n",
    "    new Dog(\"Border Collie\", 27, 18, \"Black\"),\n",
    "    new Dog(\"Husky\", 35, 20, \"Gray and White\"),\n",
    "    new Dog(\"Labrador Retriever\", 25, 22, \"Blonde\"),\n",
    "    new Dog(\"Corgi\", 26, 9.8, \"Brown\")\n",
    "  ];\n",
    "\n",
    "  return dogs;\n",
    "}\n",
    "\n",
    "function generateDogTable(dogs) {\n",
    "  const table = document.createElement(\"table\");\n",
    "  table.innerHTML = `\n",
    "    <tr>\n",
    "      <th>Species</th>\n",
    "      <th>Weight</th>\n",
    "      <th>Height</th>\n",
    "      <th>Color</th> <!-- Corrected \"color\" header -->\n",
    "    </tr>\n",
    "  `;\n",
    "  \n",
    "  dogs.forEach(dog => {\n",
    "    const row = table.insertRow();\n",
    "    row.insertCell().textContent = dog.species;\n",
    "    row.insertCell().textContent = dog.weight;\n",
    "    row.insertCell().textContent = dog.height;\n",
    "    row.insertCell().textContent = dog.color;\n",
    "  });\n",
    "\n",
    "  return table;\n",
    "}\n",
    "\n",
    "const dogs = constructDog();\n",
    "dogs.forEach(dog => {\n",
    "  dog.logIt();\n",
    "});\n",
    "\n",
    "const table = generateDogTable(dogs);"
   ]
  }
 ],
 "metadata": {
  "kernelspec": {
   "display_name": "Python 3",
   "language": "python",
   "name": "python3"
  },
  "language_info": {
   "codemirror_mode": {
    "name": "ipython",
    "version": 3
   },
   "file_extension": ".py",
   "mimetype": "text/x-python",
   "name": "python",
   "nbconvert_exporter": "python",
   "pygments_lexer": "ipython3",
   "version": "3.11.5"
  },
  "orig_nbformat": 4
 },
 "nbformat": 4,
 "nbformat_minor": 2
}
