{
 "cells": [
  {
   "cell_type": "markdown",
   "metadata": {},
   "source": [
    "---\n",
    "toc: true\n",
    "comments: true\n",
    "layout: post\n",
    "title: Javascript Datatypes\n",
    "description: The errors solved for JS  \n",
    "type: hacks\n",
    "courses: { compsci: {week: 5} }\n",
    "---"
   ]
  },
  {
   "cell_type": "markdown",
   "metadata": {},
   "source": [
    "# Hacks\n",
    "Create a JavaScript snippet below with the following requirements:\n",
    "- Create an object representing yourself as a person. The object should have keys for your name, age, current classes, interests, and two more of your choosing\n",
    "- Your object must contain keys whose values are arrays. The arrays can be arrays of strings, numbers, or even other objects if you would like\n",
    "- Print the entire object with console.log after declaring it\n",
    "- Manipulate the arrays within the object and print the entire object with console.log as well as the specific changed key afterwards\n",
    "- Perform mathematical operations on fields in your object such as +, -, /, % etc. and print the results with console.log along with a message contextualizing them\n",
    "- Use typeof to determine the types of at least 3 fields in your object"
   ]
  },
  {
   "cell_type": "code",
   "execution_count": 8,
   "metadata": {
    "vscode": {
     "languageId": "javascript"
    }
   },
   "outputs": [
    {
     "data": {
      "application/javascript": "// put your javascript code here (make sure to run it and check your outputs in the console)\n// Create an object representing yourself as a person\n// Create an object representing yourself as a person\nlet aditi = {\n    name: \"Aditi Bharadwaj\",\n    age: 15,\n    grade: 10,\n    birthMonth: 4,\n    favAnimal: [\"Sloth\", \"Dogs\"],\n    interests: [\"Tennis\", \"Violin\", \"Reading\"],\n    favFood: [\"Ice cream\"],\n    currentClasses: [\n      { name: \"Honors Humanities\", period: 1 },\n      { name: \"AP Calc AB\", period: 2 },\n      { name: \"Chemistry\", period: 3 },\n      { name: \"AP Bio\", period: 4 },\n    ]\n  };\n  \n  // Print the entire object after declaring it\n  console.log(\"Original Object:\");\n  console.log(aditi);\n  \n  // Manipulate the arrays within the object\n  aditi.favFood.push(\"Pizza\");\n  aditi.interests[1] = \"Coding\";\n  aditi.favAnimal.pop();\n  aditi.currentClasses.push({ name: \"AP CSP\", period: 5 });\n  \n  // Print the entire object after manipulation\n  console.log(\"\\nObject After Manipulation:\");\n  console.log(aditi);\n  \n  // Print the specific changed keys\n  console.log(\"\\nSpecific Changes:\");\n  console.log(\"Favorite food after adding 'Pizza':\", aditi.favFood);\n  console.log(\"interests[1] after changing to 'Coding':\", aditi.interests[1]);\n  console.log(\"Favorite animals after removing the last element:\", aditi.favAnimal);\n  console.log(\"Classes after adding a new class:\", aditi.currentClasses);\n  \n  // Perform mathematical operations and print results with context\n  console.log(\"Mathematical Operations:\");\n  \n  // Addition\n  let ageIn10Years = aditi.age + 10;\n  console.log(\"In 10 years, \" + aditi.name + \" will be \" + ageIn10Years + \" years old.\");\n  \n  // Subtraction\n  let monthsUntilBirthday = 9 - aditi.birthMonth;\n  console.log(aditi.name + \" has \" + monthsUntilBirthday + \" months until birthday.\");\n  \n  // Multiplication\n  let months = aditi.age * 12;\n  console.log(aditi.name + \"is \" + months + \" months old\");\n  \n //Division \n  let highSchoolYears = ((aditi.age - 14) / 4) * 10;\n  console.log(aditi.name + \" is \" + highSchoolYears + \" percent done with high school\");\n  \n  \n",
      "text/plain": [
       "<IPython.core.display.Javascript object>"
      ]
     },
     "metadata": {},
     "output_type": "display_data"
    }
   ],
   "source": [
    "%%js\n",
    "// put your javascript code here (make sure to run it and check your outputs in the console)\n",
    "// Create an object representing yourself as a person\n",
    "// Create an object representing yourself as a person\n",
    "let aditi = {\n",
    "    name: \"Aditi Bharadwaj\",\n",
    "    age: 15,\n",
    "    grade: 10,\n",
    "    birthMonth: 4,\n",
    "    favAnimal: [\"Sloth\", \"Dogs\"],\n",
    "    interests: [\"Tennis\", \"Violin\", \"Reading\"],\n",
    "    favFood: [\"Ice cream\"],\n",
    "    currentClasses: [\n",
    "      { name: \"Honors Humanities\", period: 1 },\n",
    "      { name: \"AP Calc AB\", period: 2 },\n",
    "      { name: \"Chemistry\", period: 3 },\n",
    "      { name: \"AP Bio\", period: 4 },\n",
    "    ]\n",
    "  };\n",
    "  \n",
    "  // Print the entire object after declaring it\n",
    "  console.log(\"Original Object:\");\n",
    "  console.log(aditi);\n",
    "  \n",
    "  // Manipulate the arrays within the object\n",
    "  aditi.favFood.push(\"Pizza\");\n",
    "  aditi.interests[1] = \"Coding\";\n",
    "  aditi.favAnimal.pop();\n",
    "  aditi.currentClasses.push({ name: \"AP CSP\", period: 5 });\n",
    "  \n",
    "  // Print the entire object after manipulation\n",
    "  console.log(\"\\nObject After Manipulation:\");\n",
    "  console.log(aditi);\n",
    "  \n",
    "  // Print the specific changed keys\n",
    "  console.log(\"\\nSpecific Changes:\");\n",
    "  console.log(\"Favorite food after adding 'Pizza':\", aditi.favFood);\n",
    "  console.log(\"interests[1] after changing to 'Coding':\", aditi.interests[1]);\n",
    "  console.log(\"Favorite animals after removing the last element:\", aditi.favAnimal);\n",
    "  console.log(\"Classes after adding a new class:\", aditi.currentClasses);\n",
    "  \n",
    "  // Perform mathematical operations and print results with context\n",
    "  console.log(\"Mathematical Operations:\");\n",
    "  \n",
    "  // Addition\n",
    "  let ageIn10Years = aditi.age + 10;\n",
    "  console.log(\"In 10 years, \" + aditi.name + \" will be \" + ageIn10Years + \" years old.\");\n",
    "  \n",
    "  // Subtraction\n",
    "  let monthsUntilBirthday = 9 - aditi.birthMonth;\n",
    "  console.log(aditi.name + \" has \" + monthsUntilBirthday + \" months until birthday.\");\n",
    "  \n",
    "  // Multiplication\n",
    "  let months = aditi.age * 12;\n",
    "  console.log(aditi.name + \"is \" + months + \" months old\");\n",
    "  \n",
    " //Division \n",
    "  let highSchoolYears = ((aditi.age - 14) / 4) * 10;\n",
    "  console.log(aditi.name + \" is \" + highSchoolYears + \" percent done with high school\");\n",
    "  \n",
    "  "
   ]
  }
 ],
 "metadata": {
  "kernelspec": {
   "display_name": "Python 3 (ipykernel)",
   "language": "python",
   "name": "python3"
  },
  "language_info": {
   "codemirror_mode": {
    "name": "ipython",
    "version": 3
   },
   "file_extension": ".py",
   "mimetype": "text/x-python",
   "name": "python",
   "nbconvert_exporter": "python",
   "pygments_lexer": "ipython3",
   "version": "3.11.5"
  }
 },
 "nbformat": 4,
 "nbformat_minor": 4
}
