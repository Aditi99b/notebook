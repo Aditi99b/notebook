{
 "cells": [
  {
   "cell_type": "markdown",
   "metadata": {},
   "source": [
    "---\n",
    "title: Using Javascript with JS Datatypes \n",
    "hide: True\n",
    "comment: true\n",
    "description: A code on the data types of javascript \n",
    "type: ccc\n",
    "permalink: /basics/datatypes\n",
    "author: Aditi Bharadwaj\n",
    "---"
   ]
  },
  {
   "cell_type": "raw",
   "metadata": {},
   "source": [
    "{% includes nav_basics.html %}"
   ]
  },
  {
   "cell_type": "code",
   "execution_count": 1,
   "metadata": {
    "vscode": {
     "languageId": "javascript"
    }
   },
   "outputs": [
    {
     "data": {
      "application/javascript": "// put your javascript code here\n// Define the values of variables a and b\nvar a = 10;\nvar b = 5;\n\n// Compare the values of a and b\nif (a > b) {\n    console.log(\"a is greater\");\n} else if (b > a) {\n    console.log(\"b is greater\");\n} else {\n    console.log(\"both are equal\");\n}\n",
      "text/plain": [
       "<IPython.core.display.Javascript object>"
      ]
     },
     "metadata": {},
     "output_type": "display_data"
    }
   ],
   "source": [
    "%%js\n",
    "// put your javascript code here\n",
    "// Define the values of variables a and b\n",
    "var a = 10;\n",
    "var b = 5;\n",
    "\n",
    "// Compare the values of a and b\n",
    "if (a > b) {\n",
    "    console.log(\"a is greater\");\n",
    "} else if (b > a) {\n",
    "    console.log(\"b is greater\");\n",
    "} else {\n",
    "    console.log(\"both are equal\");\n",
    "}\n"
   ]
  }
 ],
 "metadata": {
  "kernelspec": {
   "display_name": "Python 3",
   "language": "python",
   "name": "python3"
  },
  "language_info": {
   "codemirror_mode": {
    "name": "ipython",
    "version": 3
   },
   "file_extension": ".py",
   "mimetype": "text/x-python",
   "name": "python",
   "nbconvert_exporter": "python",
   "pygments_lexer": "ipython3",
   "version": "3.11.5"
  },
  "orig_nbformat": 4
 },
 "nbformat": 4,
 "nbformat_minor": 2
}
