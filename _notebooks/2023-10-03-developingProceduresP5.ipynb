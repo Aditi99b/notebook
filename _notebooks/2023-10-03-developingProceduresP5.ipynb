{
 "cells": [
  {
   "cell_type": "markdown",
   "metadata": {},
   "source": [
    "---\n",
    "toc: false\n",
    "comments: true\n",
    "layout: post\n",
    "title: Student Teaching Developing Algorithms \n",
    "courses: { compsci: {week: 6} }\n",
    "type: hacks\n",
    "---"
   ]
  },
  {
   "cell_type": "markdown",
   "metadata": {},
   "source": [
    "<h1>- CB 3.12,3.13 Developing Procedures</h1>"
   ]
  },
  {
   "cell_type": "markdown",
   "metadata": {},
   "source": [
    "\n",
    "What is a procedure?\n",
    "\n",
    "A procedure is a named group of code that has paramaters and return values. Procedures are known as methods or functions depending on the language.\n",
    "\n",
    "A procedure executes the statements within it on the parameters to provide a return value.\n",
    "\n",
    "What are parameters?\n",
    "\n",
    "Paramaters are input values of a procedure that are specified by arguments.Arguments specify the values of the parameters when a procedure is called.\n",
    "\n",
    "By creating theses algorithms the readibility of code increases and the complexity decreases. This is becasue a function's name can tell the reader what action it will perform, and by calling it, the code becomes more clean and easy to understand.\n",
    "\n"
   ]
  },
  {
   "cell_type": "markdown",
   "metadata": {},
   "source": [
    "<h1>What is a return value?</h1>\n",
    "<h3>A return value is the value that is returned when a function or a method is called.</h3>\n",
    "<h3>That return value can be assigned or printed</h3>"
   ]
  },
  {
   "cell_type": "markdown",
   "metadata": {},
   "source": [
    "<img src = \"/passionProject/_notebooks/images.png\">"
   ]
  },
  {
   "cell_type": "markdown",
   "metadata": {},
   "source": [
    "Procedures are used to create algorthims that can perform certain actions or return values. When a procedure returns a value, theis information must be stored in a variable for later use. However some procedures like the MOVE_FORWARD() perform an action, and don't return a value. The image above provides an example of where procedures that don't output a value would be used."
   ]
  },
  {
   "cell_type": "code",
   "execution_count": null,
   "metadata": {},
   "outputs": [],
   "source": [
    "A 60$ item recieves a 20% discount and taxed at 8%.\n",
    "PROCEDURE applyDiscount(cost, percentDiscounted)\n",
    "{\n",
    "    temp ← 100 - percentDiscounted\n",
    "    temp← temp/ 100\n",
    "    cost ← cost *temp\n",
    "    RETURN(cost)\n",
    "}\n",
    "\n",
    "price ← applyDiscount(60, 20)\n",
    "This is how we get the final price with the discount by calling the procedure and assigning it to the price variable.\n",
    "\n",
    "\n",
    "PROCEDURE applyTax(cost, percentTaxed)\n",
    "{\n",
    "    temp ← 100 + percentTaxed\n",
    "    temp← temp/ 100\n",
    "    cost ← cost *temp\n",
    "    RETURN(cost)\n",
    "}\n",
    "price ← applyTax(price, 8)\n",
    "This applys the 8% tax to the price determined after the discount."
   ]
  },
  {
   "cell_type": "markdown",
   "metadata": {},
   "source": [
    "<h3>Popcorn Hack 1</h3>\n",
    "Given the applyTax procedure above:\n",
    "How would you call the procedure to get it to find the price using cost = 50, and percentTaxed = 10, and what value will it return?"
   ]
  },
  {
   "cell_type": "code",
   "execution_count": 4,
   "metadata": {},
   "outputs": [
    {
     "data": {
      "text/plain": [
       "50"
      ]
     },
     "execution_count": 4,
     "metadata": {},
     "output_type": "execute_result"
    }
   ],
   "source": [
    "# code here \n",
    "def Tax_procedure(percentTaxed, cost):\n",
    "    percentTaxed = 10\n",
    "    cost == 50* percentTaxed\n",
    "    return cost \n",
    "\n",
    "Tax_procedure(10, 50)"
   ]
  },
  {
   "cell_type": "markdown",
   "metadata": {},
   "source": [
    "<h1>What Are Functions?</h1>\n",
    "<ul>\n",
    "    <li>Collections of code</li>\n",
    "    <li>Divides large program into smaller chunks</li>\n",
    "    <li>Better readability</li>\n",
    "    <li>Less repetitive code</li>\n",
    "    <li>More efficient code</li>\n",
    "    <li>Good organization</li>\n",
    "</ul>\n",
    "\n",
    "\n",
    "\n",
    "<h1>What Are The Components of a Function?</h1>\n",
    "<ul>\n",
    "    <li>The function declaration</li>\n",
    "    <li>The parameters (input). This is also referred to as an argument when a value is being passed to the actual function.</li>\n",
    "    <li>The functionality</li>\n",
    "    <li>The return value (output)</li>\n",
    "    <li>Calling the function</li>\n",
    "</ul>"
   ]
  },
  {
   "cell_type": "code",
   "execution_count": 5,
   "metadata": {},
   "outputs": [
    {
     "name": "stdout",
     "output_type": "stream",
     "text": [
      "10\n"
     ]
    }
   ],
   "source": [
    "# Defining Functions\n",
    "#\n",
    "# def function_name(parameter1, parameter2, etc..):\n",
    "#     code here...\n",
    "#\n",
    "#     return return_value;\n",
    "\n",
    "# return the value of parameter1 plus parameter2;\n",
    "def add(parameter1, parameter2): # creates a function that takes in two parameters\n",
    "    solution = parameter1 + parameter2; # sets solution to the sum of parameter1 and parameter2\n",
    "    return solution; # return solution\n",
    "    \n",
    "print(add(5, 5)); # prints the return value of add(5,5)"
   ]
  },
  {
   "cell_type": "markdown",
   "metadata": {},
   "source": [
    "<h2 style=\"font-weight:bold\">Popcorn Hack 2:</h2>\n",
    "<h3>1. Make a function that returns the difference of two numbers</h3>"
   ]
  },
  {
   "cell_type": "code",
   "execution_count": 15,
   "metadata": {},
   "outputs": [
    {
     "data": {
      "text/plain": [
       "10"
      ]
     },
     "execution_count": 15,
     "metadata": {},
     "output_type": "execute_result"
    }
   ],
   "source": [
    "# Code here\n",
    "def subtract(parameter1, parameter2): \n",
    "    solution = parameter1 - parameter2 \n",
    "    return solution\n",
    "    \n",
    "subtract(20, 10)"
   ]
  },
  {
   "cell_type": "markdown",
   "metadata": {},
   "source": [
    "<h1>What is a Class?</h1>\n",
    "<ul>\n",
    "    <li>A class is an outline for a set of nested functions and variables.</li>\n",
    "    <li>There are instance variables</li>\n",
    "    <li>Functions</li>\n",
    "    <ul>\n",
    "        <li>Constructor method (Required)</li>\n",
    "        <li>To String method</li>\n",
    "        <li>Getter method</li>\n",
    "        <li>Setter method</li>\n",
    "    </ul>\n",
    "</ul>\n",
    "<h1>How Does a Class Work?</h1>"
   ]
  },
  {
   "cell_type": "code",
   "execution_count": 16,
   "metadata": {},
   "outputs": [
    {
     "name": "stdout",
     "output_type": "stream",
     "text": [
      "My name is John Doe and I am 15 years old.\n",
      "My name is John Doe and I am 15 years old.\n"
     ]
    }
   ],
   "source": [
    "# Defining Classes\n",
    "class person:\n",
    "    def __init__(self, name, age, ): # constructor\n",
    "        self.name = name;\n",
    "        self.age = age;\n",
    "    \n",
    "    def getName(self): # method to create get name\n",
    "        return self.name;\n",
    "    \n",
    "    def getAge(self): # method to create get age\n",
    "        return self.age;\n",
    "    \n",
    "    def setName(self, name): # method to create set name\n",
    "        self.name = name;\n",
    "        \n",
    "    def setAge(self, age): # method to create set age\n",
    "        self.age = age;\n",
    "        \n",
    "    def yearOlder(self): # method to increment age by 1\n",
    "        self.age += 1;\n",
    "        \n",
    "    def __str__(self): # method that returns a string when the object is printed\n",
    "        return (f\"My name is {self.name} and I am {self.age} years old.\")\n",
    "\n",
    "Person1 = person(\"John Doe\", 15);\n",
    "print(Person1)\n",
    "\n",
    "\n",
    "print(Person1);"
   ]
  },
  {
   "cell_type": "markdown",
   "metadata": {},
   "source": [
    "<h2 style=\"font-weight:bold\">Popcorn Hack 3:</h2>\n",
    "<h3>1. Create a Car class which has the attributes model, vehicle name, and price</h3>\n",
    "<h3>2. Create instances of the following cars</h3>\n",
    "<ul>\n",
    "    <li>Name: Honda Civic , Model Year: 2018 , Price: $13,000 </li>\n",
    "    <li>Name: Toyota Prius, Model Year: 2023 , Price: $28,000 </li>\n",
    "    <li>Name: Chevrolet Impala, Model Year: 2020 , Price: $22,000 </li>\n",
    "</ul>"
   ]
  },
  {
   "cell_type": "code",
   "execution_count": 24,
   "metadata": {},
   "outputs": [
    {
     "name": "stdout",
     "output_type": "stream",
     "text": [
      "Car 1:\n",
      "Name: Honda Civic\n",
      "Model Year: 2018\n",
      "Price: 13000\n",
      "Car 2:\n",
      "Name: Toyota Prius\n",
      "Model Year: 2023\n",
      "Price: 28000\n",
      "Car 3:\n",
      "Name: Chevrolet Impala\n",
      "Model Year: 2020\n",
      "Price: 22000\n"
     ]
    }
   ],
   "source": [
    "class Car:\n",
    "    def __init__(self, name, model_year, price):\n",
    "        self.name = name\n",
    "        self.model_year = model_year\n",
    "        self.price = price\n",
    "\n",
    "# Create instances of the cars\n",
    "honda_civic = Car(name=\"Honda Civic\", model_year=2018, price=13000)\n",
    "toyota_prius = Car(name=\"Toyota Prius\", model_year=2023, price=28000)\n",
    "chevrolet_impala = Car(name=\"Chevrolet Impala\", model_year=2020, price=22000)\n",
    "\n",
    "print(\"Car 1:\")\n",
    "print(\"Name:\", honda_civic.name)\n",
    "print(\"Model Year:\", honda_civic.model_year)\n",
    "print(\"Price:\", honda_civic.price)\n",
    "\n",
    "print(\"Car 2:\")\n",
    "print(\"Name:\", toyota_prius.name)\n",
    "print(\"Model Year:\", toyota_prius.model_year)\n",
    "print(\"Price:\", toyota_prius.price)\n",
    "\n",
    "print(\"Car 3:\")\n",
    "print(\"Name:\", chevrolet_impala.name)\n",
    "print(\"Model Year:\", chevrolet_impala.model_year)\n",
    "print(\"Price:\", chevrolet_impala.price)"
   ]
  },
  {
   "cell_type": "markdown",
   "metadata": {},
   "source": [
    "<h1>Homework:</h1>\n",
    "<h2>Assignment 1: How do you use functions?</h2>\n",
    "<h3>Create a turtle python function that...</h3>\n",
    "<ol>\n",
    "    <li>Takes a single parameter as the number of sides</li>\n",
    "    <li>Outputs a shape corresponding to the number of sides</li>\n",
    "    <li>Call the function with the argument being a variable with the user input</li>\n",
    "</ol>\n",
    "<h3>Hint: </h3>\n",
    "\n",
    "\n",
    "\n",
    "Create a turtle python function that...\n",
    "   Takes a single parameter as the number of sides\n",
    "   Outputs a shape corresponding to the number of sides\n",
    "   Call the function with the argument being a variable with the user input\n"
   ]
  },
  {
   "cell_type": "code",
   "execution_count": 25,
   "metadata": {},
   "outputs": [
    {
     "ename": "IndentationError",
     "evalue": "expected an indented block after function definition on line 11 (3006418164.py, line 14)",
     "output_type": "error",
     "traceback": [
      "\u001b[1;36m  Cell \u001b[1;32mIn[25], line 14\u001b[1;36m\u001b[0m\n\u001b[1;33m    numsides = input('How many sides do yoUUUU wnat in YOUUUURRRR shape?!?!!?!: ')\u001b[0m\n\u001b[1;37m    ^\u001b[0m\n\u001b[1;31mIndentationError\u001b[0m\u001b[1;31m:\u001b[0m expected an indented block after function definition on line 11\n"
     ]
    }
   ],
   "source": [
    "import turtle\n",
    "\n",
    "pen = turtle.Turtle(); # pen is the instance of Turtle which has methods that do certain actions\n",
    "\n",
    "# Necessary methods:\n",
    "# .forward(50) - moves the pen forward 50 units\n",
    "# .right(angle) - turns the pen angle degrees right   \n",
    "# OR\n",
    "# .left(angle) - turns the pen angle degrees left\n",
    "\n",
    "def shape(sides):\n",
    "    #code here\n",
    "\n",
    "numsides = input('How many sides do yoUUUU wnat in YOUUUURRRR shape?!?!!?!: ')\n",
    "shape(int(numsides))\n"
   ]
  },
  {
   "cell_type": "markdown",
   "metadata": {},
   "source": [
    "<h2>Assignment 2:</h2>\n",
    "<h3>Create a student class that...</h3>\n",
    "<ol>\n",
    "    <li>Has a constructor that takes three parameters as attributes</li>\n",
    "    <li>\n",
    "        <ul>\n",
    "            <li>email</li>\n",
    "            <li>name</li>\n",
    "            <li>grade</li>\n",
    "        </ul>\n",
    "    </li>\n",
    "    <li>Three getter methods to access the name, email, and grade</li>\n",
    "    <li>Three setter methods to modify the name, email, and grade</li>\n",
    "    <li>A to string method that returns the three instance variables in this format - \"My name is {name}. My email is {email}. My grade is {grade}</li>\n",
    "    <li>Create an instance of the class that corresponds with you</li>\n",
    "</ol>\n",
    "\n",
    "\n",
    "\n"
   ]
  },
  {
   "cell_type": "code",
   "execution_count": 28,
   "metadata": {},
   "outputs": [],
   "source": [
    "import turtle\n",
    "\n",
    "def draw_shape(num_sides):\n",
    "    if num_sides < 3:\n",
    "        print(\"Number of sides should be at least 3.\")\n",
    "        return\n",
    "\n",
    "    angle = 360 / num_sides\n",
    "\n",
    "    window = turtle.Screen()\n",
    "    my_turtle = turtle.Turtle()\n",
    "\n",
    "    for _ in range(num_sides):\n",
    "        my_turtle.forward(100)  # You can adjust the length of the sides as needed.\n",
    "        my_turtle.left(angle)\n",
    "\n",
    "    window.exitonclick()\n",
    "\n",
    "# Get the number of sides from user input\n",
    "try:\n",
    "    num_sides = int(input(\"Enter the number of sides for the shape: \"))\n",
    "    draw_shape(num_sides)\n",
    "except ValueError:\n",
    "    print(\"Please enter a valid integer for the number of sides.\")"
   ]
  }
 ],
 "metadata": {
  "kernelspec": {
   "display_name": "Python 3",
   "language": "python",
   "name": "python3"
  },
  "language_info": {
   "codemirror_mode": {
    "name": "ipython",
    "version": 3
   },
   "file_extension": ".py",
   "mimetype": "text/x-python",
   "name": "python",
   "nbconvert_exporter": "python",
   "pygments_lexer": "ipython3",
   "version": "3.11.6"
  },
  "orig_nbformat": 4
 },
 "nbformat": 4,
 "nbformat_minor": 2
}
