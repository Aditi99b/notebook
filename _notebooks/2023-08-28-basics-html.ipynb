{
 "cells": [
  {
   "cell_type": "markdown",
   "metadata": {},
   "source": [
    "---\n",
    "toc: true\n",
    "comments: true\n",
    "layout: post\n",
    "title: HTML Hack\n",
    "description: A basic webpage on HTML  \n",
    "type: hacks\n",
    "courses: { compsci: {week: 6} }\n",
    "---"
   ]
  },
  {
   "cell_type": "markdown",
   "metadata": {},
   "source": [
    "# HTML Hacks\n",
    "- Below is a wireframe for an HTML element you will create. A wireframe is a rough visual representation of HTML elements on a page and isn't necessarily to scale or have the exact styling that the final HTML will have. Using the syntax above, try to create an HTML snippet that corresponds to the below wireframe.\n",
    "- The \"a tags\" can contain any links that you want\n",
    "\n",
    "![wireframe for html hacks]({{ site.baseurl }}/images/wireframe.png)"
   ]
  },
  {
   "cell_type": "code",
   "execution_count": 4,
   "metadata": {
    "vscode": {
     "languageId": "html"
    }
   },
   "outputs": [
    {
     "data": {
      "text/html": [
       "\n",
       "<!-- put your HTML code in this cell, Make sure to press the Run button to see your results below -->\n",
       "<head>\n",
       "<style>\n",
       ".myDiv {\n",
       "  border: 5px outset rgb(91, 0, 101);\n",
       "  background-color: rgb(231, 204, 255);    \n",
       "  text-align: center;\n",
       "}\n",
       "</style>\n",
       "</head>\n",
       "<body>\n",
       "\n",
       "<div class=\"myDiv\">\n",
       "  <p> <p style=\"color:rgb(52, 0, 120);\"> Lung Cancer is an important health isssue that is often undermined and unknown of.</p>\n",
       "\n",
       "  <button type=\"button\"><a href=\"https://www.cdc.gov/cancer/lung/basic_info/what-is-lung-cancer.html\">Click here to learn more about lung cancer!</a> </button> \n",
       "\n",
       "<head>\n",
       "  <style>\n",
       "  .divTwo {\n",
       "    border: 5px outset rgb(29, 0, 101);\n",
       "    background-color: rgb(165, 187, 255);    \n",
       "    text-align:center;\n",
       "  }\n",
       "  </style>\n",
       "  </head>\n",
       "  <body>\n",
       "  \n",
       "  <div class=\"divTwo\">\n",
       "    <p> <p style=\"color:red;\"> Many people don't understand that climate change has a direct effect to the prevalence of lung cancer in the USA. </p>\n",
       "  \n",
       "    <button type=\"button\"><a href=\"https://www.natureandculture.org/directory/how-indigenous-peoples-are-key-to-climate-change-mitigation/?gclid=Cj0KCQjwpc-oBhCGARIsAH6ote-BSQofJy3Z8ZXV74BP_IO07Sot-x7ytoS04Yo5kXw4-Jvb-x11uOEaAllkEALw_wcB\">Click here to learn more about climate change!</a> </button> \n",
       "\n",
       "\n",
       "  \n"
      ],
      "text/plain": [
       "<IPython.core.display.HTML object>"
      ]
     },
     "metadata": {},
     "output_type": "display_data"
    }
   ],
   "source": [
    "%%html\n",
    "\n",
    "<!-- put your HTML code in this cell, Make sure to press the Run button to see your results below -->\n",
    "<head>\n",
    "<style>\n",
    "  .myDiv {\n",
    "  border: 5px outset rgb(91, 0, 101);\n",
    "  background-color: rgb(231, 204, 255);    \n",
    "  text-align: center;\n",
    "}\n",
    "</style>\n",
    "</head>\n",
    "<body>\n",
    "\n",
    "  <!-- One of the div elements, myDiv-->\n",
    "<div class=\"myDiv\">\n",
    "  <!-- paragraphs in myDiv-->\n",
    "  <p> <p style=\"color:rgb(52, 0, 120);\"> Lung Cancer is an important health isssue that is often undermined and unknown of.</p>\n",
    "<!-- button in myDiv with a link -->\n",
    "  <button type=\"button\"><a href=\"https://www.cdc.gov/cancer/lung/basic_info/what-is-lung-cancer.html\">Click here to learn more about lung cancer!</a> </button> \n",
    "\n",
    "<!-- Opening tag for next section-->\n",
    "<head>\n",
    "  <style>\n",
    "  .divTwo {\n",
    "    border: 5px outset rgb(29, 0, 101);\n",
    "    background-color: rgb(165, 187, 255);    \n",
    "    text-align:center;\n",
    "  }\n",
    "  </style>\n",
    "  </head>\n",
    "  <body>\n",
    "  \n",
    "  <div class=\"divTwo\">\n",
    "    <p> <p style=\"color:red;\"> Many people don't understand that climate change has a direct effect to the prevalence of lung cancer in the USA. </p>\n",
    "  \n",
    "    <button type=\"button\"><a href=\"https://www.natureandculture.org/directory/how-indigenous-peoples-are-key-to-climate-change-mitigation/?gclid=Cj0KCQjwpc-oBhCGARIsAH6ote-BSQofJy3Z8ZXV74BP_IO07Sot-x7ytoS04Yo5kXw4-Jvb-x11uOEaAllkEALw_wcB\">Click here to learn more about climate change!</a> </button> \n",
    "\n",
    "\n",
    "  \n"
   ]
  }
 ],
 "metadata": {
  "kernelspec": {
   "display_name": "Python 3",
   "language": "python",
   "name": "python3"
  },
  "language_info": {
   "codemirror_mode": {
    "name": "ipython",
    "version": 3
   },
   "file_extension": ".py",
   "mimetype": "text/x-python",
   "name": "python",
   "nbconvert_exporter": "python",
   "pygments_lexer": "ipython3",
   "version": "3.11.6"
  },
  "orig_nbformat": 4
 },
 "nbformat": 4,
 "nbformat_minor": 2
}
