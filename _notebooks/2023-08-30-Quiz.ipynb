{
 "cells": [
  {
   "cell_type": "markdown",
   "metadata": {},
   "source": [
    "---\n",
    "toc: true\n",
    "comments: false\n",
    "layout: post\n",
    "title: Quiz\n",
    "description: A quiz to test your python knowledge! \n",
    "type: hacks\n",
    "courses: { compsci: {week: 2} }\n",
    "---"
   ]
  },
  {
   "cell_type": "code",
   "execution_count": 1,
   "metadata": {},
   "outputs": [
    {
     "name": "stdout",
     "output_type": "stream",
     "text": [
      "0\n",
      "\n",
      "Question 1: What type of text does not change?\n",
      "Correct!\n",
      "1\n",
      "\n",
      "Question 2: What do you call two or more lines of code?\n",
      "Correct!\n",
      "2\n",
      "\n",
      "Question 3: How do you print text on the screen?\n",
      "Correct!\n",
      "3\n",
      "\n",
      "Question 4: Which word in Python defines a function?\n",
      "Correct!\n",
      "4\n",
      "\n",
      "Question 5: What do you call it when the input and output can change?\n",
      "Correct!\n",
      "5\n",
      "\n",
      "Question 6: If the if command isn't true, what does it go to?\n",
      "Correct!\n",
      "\n",
      "Quiz completed!\n",
      "Amazi you scored 100.00%\n"
     ]
    }
   ],
   "source": [
    "import getpass, sys, os\n",
    "\n",
    "# Questions\n",
    "\n",
    "questions = [\n",
    "    \"What type of text does not change?\",\n",
    "    \"What do you call two or more lines of code?\",\n",
    "    \"How do you print text on the screen?\",\n",
    "    \"Which word in Python defines a function?\",\n",
    "    \"What do you call it when the input and output can change?\",\n",
    "    \"If the if command isn't true, what does it go to?\"\n",
    "]\n",
    "\n",
    "# Answers \n",
    "\n",
    "correct_answers = [\n",
    "    \"static\",\n",
    "    \"sequence\",\n",
    "    \"print\",\n",
    "    \"def\",\n",
    "    \"dynamic\",\n",
    "    \"else\",\n",
    "]\n",
    "\n",
    "#Output the question and get the user's answer \n",
    "\n",
    "def question_with_response(prompt):\n",
    "    print(f\"\\nQuestion {prompt+1}: {questions[prompt]}\")\n",
    "    msg = input(\"\\nYour answer: \").lower()\n",
    "    return msg\n",
    "\n",
    "#Points\n",
    "\n",
    "#if the answer is correct, give 1 point \n",
    "def run_quiz():\n",
    "    correct = 0\n",
    "    for i in range(len(questions)):\n",
    "        print(i)\n",
    "                \n",
    "        rsp = question_with_response(i)\n",
    "        if rsp == correct_answers[i]:\n",
    "            print(\"Correct!\")\n",
    "            correct +=1\n",
    "        #if the answer is incorrect, don't give any points\n",
    "        else:\n",
    "            print(f\"Incorrect, the correct answer is: {correct_answers[i]}\")\n",
    "    #divide score by 6 and make into a percent\n",
    "    score = (correct/6)\n",
    "    print(\"\\nQuiz completed!\")\n",
    "    print(getpass.getuser() + \" you scored \" + \"{:.2%}\".format(score))\n",
    "\n",
    "run_quiz()"
   ]
  }
 ],
 "metadata": {
  "kernelspec": {
   "display_name": "Python 3",
   "language": "python",
   "name": "python3"
  },
  "language_info": {
   "codemirror_mode": {
    "name": "ipython",
    "version": 3
   },
   "file_extension": ".py",
   "mimetype": "text/x-python",
   "name": "python",
   "nbconvert_exporter": "python",
   "pygments_lexer": "ipython3",
   "version": "3.11.5"
  },
  "orig_nbformat": 4
 },
 "nbformat": 4,
 "nbformat_minor": 2
}
