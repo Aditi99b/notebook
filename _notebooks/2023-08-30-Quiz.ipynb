{
 "cells": [
  {
   "cell_type": "markdown",
   "metadata": {},
   "source": [
    "---\n",
    "toc: true\n",
    "comments: false\n",
    "layout: post\n",
    "title: Quiz\n",
    "description: A quiz to test your python knowledge! \n",
    "type: hacks\n",
    "courses: { compsci: {week: 2} }\n",
    "---"
   ]
  },
  {
   "cell_type": "code",
   "execution_count": 1,
   "metadata": {},
   "outputs": [
    {
     "name": "stdout",
     "output_type": "stream",
     "text": [
      "\n",
      "Question 1: Communication, consensus building, conflict resolution and negotiation is an example of \n",
      "Correct!\n",
      "\n",
      "Question 2: Should the acknowledgment of a code segment include the origin or original author’s name?\n",
      "Incorrect! The correct answer is: yes\n",
      "\n",
      "Question 3: The variable age is to be used to represent a person’s age, years. Which of the following is the most appropriate data type for age \n",
      "Correct!\n",
      "\n",
      "Question 4: The variable isOpen is to be used to indicate whether or not a store is currently open. Which of the following is the most appropriate data type for isOpen ?\n",
      "Incorrect! The correct answer is: boolean\n",
      "\n",
      "Question 5: True or False? Program development is usually a solo endeavor.\n",
      "Incorrect! The correct answer is: false\n",
      "\n",
      "Question 6: A group of statements is called..\n",
      "Incorrect! The correct answer is: code segment.\n",
      "\n",
      "Quiz completed!\n",
      "Amazi, you scored 33.33%.\n"
     ]
    }
   ],
   "source": [
    "import getpass\n",
    "\n",
    "\n",
    "# Define the quiz dictionary with questions as keys and answers as values\n",
    "quiz = {\n",
    "    \"Communication, consensus building, conflict resolution and negotiation is an example of \": \"collaboration\",\n",
    "    \"Should the acknowledgment of a code segment include the origin or original author’s name?\": \"yes\",\n",
    "    \"The variable age is to be used to represent a person’s age, years. Which of the following is the most appropriate data type for age \": \"integer\",\n",
    "    \"The variable isOpen is to be used to indicate whether or not a store is currently open. Which of the following is the most appropriate data type for isOpen ?\": \"boolean\",\n",
    "    \"True or False? Program development is usually a solo endeavor.\" : \"false\",\n",
    "    \"A group of statements is called..\" : \"code segment.\",\n",
    "}\n",
    "\n",
    "\n",
    "# Function to administer the quiz\n",
    "def run_quiz():\n",
    "    total_questions = len(quiz)\n",
    "    correct_answers = quiz.values()\n",
    "    score = 0\n",
    "\n",
    "\n",
    "    for i, (question, correct_answer) in enumerate(quiz.items(), start=1):\n",
    "        print(f\"\\nQuestion {i}: {question}\")\n",
    "        user_answer = input(\"Your answer: \").strip().lower()\n",
    "       \n",
    "\n",
    "\n",
    "        if user_answer == correct_answer:\n",
    "            print(\"Correct!\")\n",
    "            score += 1\n",
    "        else:\n",
    "            print(f\"Incorrect! The correct answer is: {correct_answer}\")\n",
    "           \n",
    "            #use and if else loop to determine in a list has an even or odd set of numbers\n",
    "\n",
    "\n",
    "    # Calculate the score as a percentage\n",
    "    percentage_score = (score / total_questions) * 100\n",
    "    print(f\"\\nQuiz completed!\\n{getpass.getuser()}, you scored {percentage_score:.2f}%.\")\n",
    "\n",
    "\n",
    "# Run the quiz\n",
    "run_quiz()"
   ]
  }
 ],
 "metadata": {
  "kernelspec": {
   "display_name": "Python 3",
   "language": "python",
   "name": "python3"
  },
  "language_info": {
   "codemirror_mode": {
    "name": "ipython",
    "version": 3
   },
   "file_extension": ".py",
   "mimetype": "text/x-python",
   "name": "python",
   "nbconvert_exporter": "python",
   "pygments_lexer": "ipython3",
   "version": "3.11.5"
  },
  "orig_nbformat": 4
 },
 "nbformat": 4,
 "nbformat_minor": 2
}
