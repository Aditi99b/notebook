{
 "cells": [
  {
   "cell_type": "markdown",
   "metadata": {},
   "source": [
    "---\n",
    "toc: true\n",
    "comments: true\n",
    "layout: post\n",
    "title: HTML + JS Hack\n",
    "description: A basic page in HTML switched links \n",
    "type: hacks\n",
    "courses: { compsci: {week: 5} }\n",
    "---"
   ]
  },
  {
   "cell_type": "markdown",
   "metadata": {},
   "source": [
    "# Hacks\n",
    "- Copy your HTML code from the HTML hacks. Write a Javascript snippet to switch the links of the two a tags when a button is pressed. Once they are switched, change the inner HTML of the top p tag to the word \"switched!\""
   ]
  },
  {
   "cell_type": "code",
   "execution_count": 8,
   "metadata": {
    "vscode": {
     "languageId": "html"
    }
   },
   "outputs": [
    {
     "data": {
      "text/html": [
       "<!-- html code goes here (make sure to run) -->\n",
       "\n",
       "<!-- put your HTML code in this cell, Make sure to press the Run button to see your results below -->\n",
       "<head>\n",
       "<style>\n",
       ".myDiv {\n",
       "  border: 5px outset rgb(91, 0, 101);\n",
       "  background-color: rgb(231, 204, 255);    \n",
       "  text-align: center;\n",
       "}\n",
       "</style>\n",
       "</head>\n",
       "<body>\n",
       "\n",
       "<div class=\"myDiv\">\n",
       "  <p> <p style=\"color:rgb(52, 0, 120);\"> Lung Cancer is an important health isssue that is often undermined and unknown of.</p>\n",
       "\n",
       "  <button type=\"button\"><a href=\"https://www.cdc.gov/cancer/lung/basic_info/what-is-lung-cancer.html\">Click here to learn more about lung cancer!</a> </button> \n",
       "\n",
       "<head>\n",
       "  <style>\n",
       "  .divTwo {\n",
       "    border: 5px outset rgb(29, 0, 101);\n",
       "    background-color: rgb(165, 187, 255);    \n",
       "    text-align:center;\n",
       "  }\n",
       "  </style>\n",
       "  </head>\n",
       "  <body>\n",
       "  \n",
       "  <div class=\"divTwo\">\n",
       "    <p> <p style=\"color:red;\"> Many people don't understand that climate change has a direct effect to the prevalence of lung cancer in the USA. </p>\n",
       "  \n",
       "    <button type=\"button\"><a href=\"https://www.natureandculture.org/directory/how-indigenous-peoples-are-key-to-climate-change-mitigation/?gclid=Cj0KCQjwpc-oBhCGARIsAH6ote-BSQofJy3Z8ZXV74BP_IO07Sot-x7ytoS04Yo5kXw4-Jvb-x11uOEaAllkEALw_wcB\">Click here to learn more about climate change!</a> </button> \n",
       " \n",
       "    <script>\n",
       "      // Function to switch the links and change the top <p> tag\n",
       "      function switchLinksAndChangeText() {\n",
       "        // Get references to the two <a> tags\n",
       "        var link1 = document.querySelector(\".myDiv a\");\n",
       "        var link2 = document.querySelector(\".divTwo a\");\n",
       "    \n",
       "        // Get the href attributes of the links\n",
       "        var href1 = link1.getAttribute(\"href\");\n",
       "        var href2 = link2.getAttribute(\"href\");\n",
       "    \n",
       "        // Swap the href attributes\n",
       "        link1.setAttribute(\"href\", href2);\n",
       "        link2.setAttribute(\"href\", href1);\n",
       "    \n",
       "        // Change the inner HTML of the top <p> tag\n",
       "        var topParagraph = document.querySelector(\".myDiv p\");\n",
       "        topParagraph.innerHTML = \"Switched!\";\n",
       "      }\n",
       "    \n",
       "      // Add an event listener to the button\n",
       "      var button = document.querySelector(\".myDiv button\");\n",
       "      button.addEventListener(\"click\", switchLinksAndChangeText);\n",
       "    </script>\n",
       "    \n"
      ],
      "text/plain": [
       "<IPython.core.display.HTML object>"
      ]
     },
     "metadata": {},
     "output_type": "display_data"
    }
   ],
   "source": [
    "%%html\n",
    "<!-- html code goes here (make sure to run) -->\n",
    "\n",
    "<!-- put your HTML code in this cell, Make sure to press the Run button to see your results below -->\n",
    "<head>\n",
    "<style>\n",
    ".myDiv {\n",
    "  border: 5px outset rgb(91, 0, 101);\n",
    "  background-color: rgb(231, 204, 255);    \n",
    "  text-align: center;\n",
    "}\n",
    "</style>\n",
    "</head>\n",
    "<body>\n",
    "\n",
    "<div class=\"myDiv\">\n",
    "  <p> <p style=\"color:rgb(52, 0, 120);\"> Lung Cancer is an important health isssue that is often undermined and unknown of.</p>\n",
    "\n",
    "  <button type=\"button\"><a href=\"https://www.cdc.gov/cancer/lung/basic_info/what-is-lung-cancer.html\">Click here to learn more about lung cancer!</a> </button> \n",
    "\n",
    "<head>\n",
    "  <style>\n",
    "  .divTwo {\n",
    "    border: 5px outset rgb(29, 0, 101);\n",
    "    background-color: rgb(165, 187, 255);    \n",
    "    text-align:center;\n",
    "  }\n",
    "  </style>\n",
    "  </head>\n",
    "  <body>\n",
    "  \n",
    "  <div class=\"divTwo\">\n",
    "    <p> <p style=\"color:red;\"> Many people don't understand that climate change has a direct effect to the prevalence of lung cancer in the USA. </p>\n",
    "  \n",
    "    <button type=\"button\"><a href=\"https://www.natureandculture.org/directory/how-indigenous-peoples-are-key-to-climate-change-mitigation/?gclid=Cj0KCQjwpc-oBhCGARIsAH6ote-BSQofJy3Z8ZXV74BP_IO07Sot-x7ytoS04Yo5kXw4-Jvb-x11uOEaAllkEALw_wcB\">Click here to learn more about climate change!</a> </button> \n",
    " \n",
    "    <script>\n",
    "      // Function to switch the links and change the top <p> tag\n",
    "      function switchLinksAndChangeText() {\n",
    "        // Get references to the two <a> tags\n",
    "        var link1 = document.querySelector(\".myDiv a\");\n",
    "        var link2 = document.querySelector(\".divTwo a\");\n",
    "    \n",
    "        // Get the href attributes of the links\n",
    "        var href1 = link1.getAttribute(\"href\");\n",
    "        var href2 = link2.getAttribute(\"href\");\n",
    "    \n",
    "        // Swap the href attributes\n",
    "        link1.setAttribute(\"href\", href2);\n",
    "        link2.setAttribute(\"href\", href1);\n",
    "    \n",
    "        // Change the inner HTML of the top <p> tag\n",
    "        var topParagraph = document.querySelector(\".myDiv p\");\n",
    "        topParagraph.innerHTML = \"Switched!\";\n",
    "      }\n",
    "    \n",
    "      // Add an event listener to the button\n",
    "      var button = document.querySelector(\".myDiv button\");\n",
    "      button.addEventListener(\"click\", switchLinksAndChangeText);\n",
    "    </script>\n",
    "    "
   ]
  }
 ],
 "metadata": {
  "kernelspec": {
   "display_name": "Python 3",
   "language": "python",
   "name": "python3"
  },
  "language_info": {
   "codemirror_mode": {
    "name": "ipython",
    "version": 3
   },
   "file_extension": ".py",
   "mimetype": "text/x-python",
   "name": "python",
   "nbconvert_exporter": "python",
   "pygments_lexer": "ipython3",
   "version": "3.11.5"
  },
  "orig_nbformat": 4
 },
 "nbformat": 4,
 "nbformat_minor": 2
}
