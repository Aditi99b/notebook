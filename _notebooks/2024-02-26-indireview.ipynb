{
 "cells": [
  {
   "cell_type": "markdown",
   "metadata": {},
   "source": [
    "---\n",
    "toc: true\n",
    "comments: false\n",
    "layout: post\n",
    "title: Individual Review - Tri 2 \n",
    "description: My Individual Review Code About Trimester 2\n",
    "type: hacks\n",
    "courses: { compsci: {week: 12} }\n",
    "---"
   ]
  },
  {
   "cell_type": "markdown",
   "metadata": {},
   "source": [
    "## What I did \n",
    "I worked on a variety of aspects with my team for the CPT Project: Login and Welcome page for the website, and the frontend and backend code for the Pulse page. On the backend code itself, it had a lot of different aspects to it. \n",
    "I worked a lot on putting CRUD Operations in my code. My code implements CRUD (Create, Read, Update, Delete) operations for interacting with the database. These operations enable the manipulation of data within the pulses table, providing functionalities to create, read, update, and delete records. I also added property decorators to define getter and setter methods for the Active and Exercise attributes of the Pulse class. These decorators allow for controlled access and manipulation of the class attributes, providing a way to encapsulate data and ensure data integrity. Lastly, I worked on database Initialization Function: The initPulses() function serves the purpose of initializing the database by creating tables (db.create_all()) and populating them with test data. This function encapsulates the setup process required to start using the database, providing a convenient way to prepare the database for testing or production use.\n",
    "\n",
    "## N@TM\n",
    "Our team's idea for the CPT project was the fitness tracker. We aimed to have many features in our project, like a sleep and heartrate tracker. I was very interested in this topic and I see how many people can be affected by fitness and I wamted to make an impact on this issue. Our website is very interactive and throughout Night at the Museum we recieved a lot of feedback about how interactive it was. Our plans and design layouts are below. As a team we worked on handling this data efficiently, implementing data structures, and using databases align with the College Board’s emphasis on data management in computer science projects.\n",
    "\n",
    "[CPT Project Planning Issue](https://github.com/EshikaP1/2front/issues/4)\n",
    "\n",
    "[Wix Design Layout for our Page](https://cindyl17204.wixsite.com/website/team-3)\n",
    "\n",
    "| Collegeboard Requirements                                                  | Me                                                                                                                                                                                                                                     |\n",
    "|----------------------------------------------------------------------------|----------------------------------------------------------------------------------------------------------------------------------------------------------------------------------------------------------------------------------------|\n",
    "| Instructions for input from one of the following: the user, a device, an online data stream, a file.                                   | Our Project takes in an input for a form, converts it to JSON, and sends it to the backend.                                                                                                                                            |\n",
    "| Use of at least one list (or other collection type) to represent a collection of data that is stored and used to manage program complexity and help fulfill the user’s purpose. | JSON is a collection of data that is stored to track user exercise and their heart rate. It is used to manage program complexity and help fulfill the program’s purpose of tracking user exercise and pulse.                            |\n",
    "| At least one procedure that contributed to the program’s intended purpose where you have defined: the name, return type, one or more parameters. | <img width=\"554\" alt=\"image\" src=\"https://github.com/EshikaP1/2front/assets/139928265/e5277706-61c2-49a1-b9b5-1ee90ea9c84a\"> In this code, The `create()` method within the `Pulse` class facilitates the addition of new database records and returns `self` upon successful creation, adhering to the program's objective. Although it lacks explicit parameters, it plays a crucial role in the program's functionality by defining its name, return type, and aiding in database record creation.                                                                                                                                                |\n",
    "| Calls to your student-developed procedure.                                  | I called to this procedure in my fetch code on pulse.md . \n",
    " md.                                                                                                                                                            |\n",
    "| Instructions for output (tactile, audible, visual, or other) based on input and program functionality.                                   | <img width=\"548\" alt=\"image\" src=\"https://github.com/EshikaP1/2front/assets/139928265/f73282ec-8112-4636-ab9b-0716ef8e0e02\"> The code for this is in pulse.md in the frontend, where the code allowed people to see their heart rate as well as give them suggestions about why tracking is healthy and how they can increase their exercise to increase their heart rate.                                                                      |\n",
    "| Implementation of built-in or existing procedures or language structures, such as event handlers or main methods, are not considered student-developed. An algorithm that includes sequencing, selection, and iteration that is in the body of the selected procedure. Calls to your student-developed procedure/ Instructions for output (tactile, audible, visual, or textual) based on input. | The snippet below exemplifies the utilization of sequencing, selection, and iteration within the initPulses() function. First, the function initializes a database context, then creates database tables if they don't exist. Next, it attempts to load data from a JSON file, employing exception handling to manage potential errors. Subsequently, it iterates over each item in the loaded data, creating Pulse objects and appending them to a list. Finally, it iterates over the list of Pulse objects and attempts to add them to the database, handling integrity errors gracefully. This snippet demonstrates sequencing by outlining the order of operations, selection through conditional checks (e.g., handling exceptions), and iteration via loops over data items and Pulse objects, showcasing fundamental programming concepts. <img width=\"408\" alt=\"image\" src=\"https://github.com/avanthikadaita/student2/assets/139928265/f1852835-d9b0-478b-9251-5b4693e0812b\">\n",
    " |\n",
    "\n",
    "\n",
    "| Collegeboard Requirements | My Video                                                                                                                                                                               |\n",
    "|---------------------------|-----------------------------------------------------------------------------------------------------------------------------------------------------------------------------------------|\n",
    "| Input to program          | Seen in video, entering form for tracking data                                                                                                                                         |\n",
    "| At least one aspect of the functionality of your program                            | The graphs produced based on user data                                                                                                                                                  |\n",
    "| Output produced by program | Data saved, graph produced based on data for exercise/sleep                                                                                                                            |\n",
    "| My video does not have    | any distinguishing information and voice narration                                                                                                                                      |\n",
    "| My video is               | a .mp3, less than 1 minute in length, less than 30MB in file size.                                                                                                                     |\n",
    "\n",
    "\n",
    "## Commits that show work I did\n",
    "FRONTEND \n",
    "\n",
    "[Merged branch](https://github.com/EshikaP1/2front/commit/47e2995e31a38d84e6742ef4e2362196c66cb9c5) - This is when I merged my changes of my frontend file to the original frontend file that already existed. I merged them during a pull request. \n",
    "\n",
    "[Pull Request](https://github.com/EshikaP1/2front/pull/2) - This is when I changed my code to be able to link to the backend code. Originally, we only had a pulse game that had no connection to the backend. However, I wanted to incorporate the backend database 'pulse' into the frontend, so I linked the two using this code.\n",
    "\n",
    "[Login Changes](https://github.com/EshikaP1/2front/commit/d202499cb65bb11362e9c180c61ab679cd70a82d)\n",
    "Login Changes - This is when I updated our login page to look better and have a place where users could enter this information. Previously, the page was off theme, but I changed it to fit the rest of the website. \n",
    "\n",
    "[Pulse Changes](https://github.com/EshikaP1/2front/commit/615fd297e675568784f0462e162ef6ff84772c99) - This is when I wrote my entire frontend code for the page Pulse.py. I also linked it to the backend and made sure its link matched. \n",
    "\n",
    "\n",
    "BACKEND \n",
    "\n",
    "[API Changes](https://github.com/EshikaP1/2back/commit/d9820f41eb6e4f1ed077258b384e1e6201f00365) - This is when I changed my already existing backend code to be free of errors and actually display the data. Whenever we ran ./migrate.sh, my database would never display. However, after making these essential changes, my code started to work. \n",
    "\n",
    "[Pulse CSV File](https://github.com/EshikaP1/2back/commit/930e8717ec4218667c6f789d46e90d514d8a8297) - This is when I first added my CSV file into our repository and made a pulse.py file to link the data in this database into useful information. "
   ]
  }
 ],
 "metadata": {
  "language_info": {
   "name": "python"
  }
 },
 "nbformat": 4,
 "nbformat_minor": 2
}
