{
 "cells": [
  {
   "cell_type": "markdown",
   "metadata": {},
   "source": [
    "---\n",
    "toc: true\n",
    "comments: true\n",
    "layout: post\n",
    "title: JS Errors \n",
    "description: The errors solved for JS  \n",
    "type: hacks\n",
    "courses: { compsci: {week: 5} }\n",
    "---"
   ]
  },
  {
   "cell_type": "markdown",
   "metadata": {},
   "source": [
    "## College Board Unit 1.4\n",
    "\n",
    "- Logic error: mistake in program that cuases it to behave incorrectly\n",
    "- Syntax error: rules of code aren't followed \n",
    "- Run-Time error: error in executing \n",
    "- Overflow error: when the computer tries to handle a number outside expected range "
   ]
  },
  {
   "cell_type": "markdown",
   "metadata": {},
   "source": [
    "## Segment 1: Alphabet List\n",
    "\n",
    "Intended behavior: create a list of characters from the string contained in the variable `alphabet`\n",
    "\n",
    "### Code:"
   ]
  },
  {
   "cell_type": "code",
   "execution_count": 8,
   "metadata": {
    "vscode": {
     "languageId": "javascript"
    }
   },
   "outputs": [
    {
     "data": {
      "application/javascript": "\n\n// uses a string to contain all letters of the alphabet \nvar alphabet = \"abcdefghijklmnopqrstuvwxyz\";\n// alphabet list stores all the letters in the alphabet \nvar alphabetList = [];\n\n// i starts at 0, there is 26 letters in the alphabet \n// i++ means it'll add one more letter into the alphabet \nfor (var i = 0; i < 26; i++) {\n    alphabetList.push(alphabet[i]);\n}\n\n// it will print the alphabet \n\nconsole.log(alphabetList);\n",
      "text/plain": [
       "<IPython.core.display.Javascript object>"
      ]
     },
     "metadata": {},
     "output_type": "display_data"
    }
   ],
   "source": [
    "%%js \n",
    "\n",
    "\n",
    "// uses a string to contain all letters of the alphabet \n",
    "var alphabet = \"abcdefghijklmnopqrstuvwxyz\";\n",
    "// alphabet list stores all the letters in the alphabet \n",
    "var alphabetList = [];\n",
    "\n",
    "// i starts at 0, there is 26 letters in the alphabet \n",
    "// i++ means it'll add one more letter into the alphabet \n",
    "for (var i = 0; i < 26; i++) {\n",
    "    alphabetList.push(alphabet[i]);\n",
    "}\n",
    "\n",
    "// it will print the alphabet list  \n",
    "\n",
    "console.log(alphabetList);"
   ]
  },
  {
   "cell_type": "markdown",
   "metadata": {},
   "source": [
    "### What I Changed\n",
    "\n",
    "I added alphabet i into the push because the original code only put the numbers 1-9 into the alphabet list, but we want to put letters a-z in the alphabet so it outputs the specific number in the alphabet itself. Changed i brackets to sqaure. \n"
   ]
  },
  {
   "cell_type": "markdown",
   "metadata": {},
   "source": [
    "## Segment 2: Numbered Alphabet\n",
    "\n",
    "Intended behavior: print the number of a given alphabet letter within the alphabet. For example:\n",
    "```\n",
    "\"_\" is letter number _ in the alphabet\n",
    "```\n",
    "\n",
    "Where the underscores (_) are replaced with the letter and the position of that letter within the alphabet (e.g. a=1, b=2, etc.)\n",
    "\n",
    "### Code:"
   ]
  },
  {
   "cell_type": "code",
   "execution_count": 1,
   "metadata": {
    "vscode": {
     "languageId": "javascript"
    }
   },
   "outputs": [
    {
     "data": {
      "application/javascript": "\n// Copy your previous code to build alphabetList here\n// uses a string to contain all letters of the alphabet \nvar alphabet = \"abcdefghijklmnopqrstuvwxyz\";\n// alphabet list stores all the letters in the alphabet \nvar alphabetList = [];\n\n// i starts at 0, there is 26 letters in the alphabet \n// i++ means it'll add one more letter into the alphabet \nfor (var i = 0; i < 26; i++) {\n    alphabetList.push(alphabet[i]);\n}\n\n// it will print the alphabet list  \n\nconsole.log(alphabetList);\n\n// Specify the letterNumber you want to find (e.g., 5 for \"e\")\nlet letterNumber = 5;\n\n// a for loop used to look through thte letters in alphabetList\nfor (var i = 0; i < alphabetList.length; i++) {\n    // seeing if i is equal to the letter number - 1 (it's subtracted from 1 because JS starts at 0)\n    if (i === letterNumber - 1) {\n        console.log(letterNumber + \" is letter number \" + letterNumber + \" in the alphabet\");\n    }\n}\n",
      "text/plain": [
       "<IPython.core.display.Javascript object>"
      ]
     },
     "metadata": {},
     "output_type": "display_data"
    }
   ],
   "source": [
    "%%js\n",
    "\n",
    "// Copy your previous code to build alphabetList here\n",
    "// uses a string to contain all letters of the alphabet \n",
    "var alphabet = \"abcdefghijklmnopqrstuvwxyz\";\n",
    "// alphabet list stores all the letters in the alphabet \n",
    "var alphabetList = [];\n",
    "\n",
    "// i starts at 0, there is 26 letters in the alphabet \n",
    "// i++ means it'll add one more letter into the alphabet \n",
    "for (var i = 0; i < 26; i++) {\n",
    "    alphabetList.push(alphabet[i]);\n",
    "}\n",
    "\n",
    "// it will print the alphabet list  \n",
    "\n",
    "console.log(alphabetList);\n",
    "\n",
    "// Specify the letterNumber you want to find (e.g., 5 for \"e\")\n",
    "let letterNumber = 5;\n",
    "\n",
    "// a for loop used to look through the letters in alphabetList\n",
    "for (var i = 0; i < alphabetList.length; i++) {\n",
    "    // seeing if i is equal to the letter number - 1 (it's subtracted from 1 because JS starts at 0)\n",
    "    if (i === letterNumber - 1) {\n",
    "        console.log(letterNumber + \" is letter number \" + letterNumber + \" in the alphabet\");\n",
    "    }\n",
    "}\n"
   ]
  },
  {
   "cell_type": "markdown",
   "metadata": {},
   "source": [
    "### What I Changed\n",
    "\n",
    "I added a .length to the alphabetList so that the loop can process all the elements without having to specify the number of elements. I also added a -1 to letterNumber because our code starts at 0. I also changed the print statement so it would output the correct values. "
   ]
  },
  {
   "cell_type": "markdown",
   "metadata": {},
   "source": [
    "## Segment 3: Odd Numbers\n",
    "\n",
    "Intended behavior: print a list of all the odd numbers below 10\n",
    "\n",
    "### Code:"
   ]
  },
  {
   "cell_type": "code",
   "execution_count": null,
   "metadata": {
    "vscode": {
     "languageId": "javascript"
    }
   },
   "outputs": [],
   "source": [
    "%%js\n",
    "\n",
    "// make an array to store even numbers \n",
    "let evens = [];\n",
    "\n",
    "// the variable i equals 0 \n",
    "let i = 1;\n",
    "\n",
    "// while i is less than or equal to 10, push the even numbers of i into the array \n",
    "while (i <= 10) {\n",
    "  evens.push(i);\n",
    "// adds 2 numbers each time \n",
    "  i += 2;\n",
    "}\n",
    "\n",
    "// print evens which has all the even numbers from 1 to 10\n",
    "console.log(evens);"
   ]
  },
  {
   "cell_type": "markdown",
   "metadata": {},
   "source": [
    "### What I Changed\n",
    "\n",
    "let i = 1 and not 0 because you want to start at an odd number so all the numbers after that are even. "
   ]
  },
  {
   "cell_type": "markdown",
   "metadata": {},
   "source": [
    "# BELOW NOT EDITED"
   ]
  },
  {
   "cell_type": "markdown",
   "metadata": {},
   "source": [
    "The intended outcome is printing a number between 1 and 100 once, if it is a multiple of 2 and 5, such as 10, 20, 30, ect. \n",
    "- What values are outputted incorrectly. Why?\n",
    "    Multiples of 2 and 5 because they were pushed into the newNumbers array twice. \n",
    "- Make changes to get the intended outcome.\n",
    "    The old code use to check for divisibility of 2 and 5 individually, leading to duplicates"
   ]
  },
  {
   "cell_type": "code",
   "execution_count": 1,
   "metadata": {
    "vscode": {
     "languageId": "javascript"
    }
   },
   "outputs": [
    {
     "data": {
      "application/javascript": "var numbers = [];\nvar newNumbers = [];\nvar i = 0;\n\nwhile (i < 100) {\n    numbers.push(i);\n    i += 1;\n}\n\nfor (var number of numbers) {\n    if (number % 5 === 0) {\n        newNumbers.push(number);\n    }\n    if (number % 2 === 0) {\n        newNumbers.push(number);\n    }\n}\n\nconsole.log(newNumbers);\n",
      "text/plain": [
       "<IPython.core.display.Javascript object>"
      ]
     },
     "metadata": {},
     "output_type": "display_data"
    }
   ],
   "source": [
    "// array to store numbers\n",
    "var numbers = [];\n",
    "// arry to store filtered numbers \n",
    "var newNumbers = [];\n",
    "\n",
    "// a loop from 1 to 100\n",
    "for (var i = 1; i <= 100; i++) {\n",
    "    // see if the number inputted is divisible by 5 or 2\n",
    "    if (i % 5 === 0 || i % 2 === 0) {\n",
    "        // if the number is divisible, add it to the newNumbers array\n",
    "        newNumbers.push(i);\n",
    "    }\n",
    "}\n",
    "\n",
    "// print the filtered numbers \n",
    "console.log(newNumbers);"
   ]
  },
  {
   "cell_type": "markdown",
   "metadata": {},
   "source": [
    "# Challenge\n",
    "\n",
    "This code segment is at a very early stage of implementation.\n",
    "- What are some ways to (user) error proof this code?\n",
    "    - They can have a running list of everything the user ordered \n",
    "- The code should be able to calculate the cost of the meal of the user\n",
    "    \n",
    "\n",
    "Hint:\n",
    "- write a “single” test describing an expectation of the program of the program\n",
    "- test - input burger, expect output of burger price\n",
    "- run the test, which should fail because the program lacks that feature\n",
    "- write “just enough” code, the simplest possible, to make the test pass\n",
    "\n",
    "Then repeat this process until you get program working like you want it to work."
   ]
  },
  {
   "cell_type": "code",
   "execution_count": 2,
   "metadata": {
    "vscode": {
     "languageId": "javascript"
    }
   },
   "outputs": [
    {
     "data": {
      "application/javascript": "var menu = {\n    \"burger\": 3.99,\n    \"fries\": 1.99,\n    \"drink\": 0.99\n};\nvar total = 0;\n\nconsole.log(\"Menu\");\nfor (var item in menu) {\n    console.log(item + \"  $\" + menu[item].toFixed(2));\n}\n\nwhile (true) {\n    var userChoice = prompt(\"Enter an item from the menu (or 'done' to finish):\");\n    if (userChoice === null || userChoice.toLowerCase() === 'done') {\n        break;\n    }\n    if (menu.hasOwnProperty(userChoice)) {\n        total += menu[userChoice];\n        console.log(\"Added \" + userChoice + \" to your order. Current total: $\" + total.toFixed(2));\n    } else {\n        console.log(\"Invalid item. Please select from the menu.\");\n    }\n}\n\nconsole.log(\"Total cost of your meal: $\" + total.toFixed(2));\n",
      "text/plain": [
       "<IPython.core.display.Javascript object>"
      ]
     },
     "metadata": {},
     "output_type": "display_data"
    }
   ],
   "source": [
    "%%js \n",
    "var menu = {\n",
    "    \"burger\": 3.99,\n",
    "    \"fries\": 1.99,\n",
    "    \"drink\": 0.99\n",
    "};\n",
    "var total = 0;\n",
    "\n",
    "console.log(\"Menu\");\n",
    "for (var item.toLowercase in menu) {\n",
    "    console.log(item + \"  $\" + menu[item].toFixed(2));\n",
    "}\n",
    "\n",
    "while (true) {\n",
    "    var userChoice = prompt(\"Enter an item from the menu (or 'done' to finish):\");\n",
    "    if (userChoice === null || userChoice.toLowerCase() === 'done') {\n",
    "        break;\n",
    "    }\n",
    "    if (menu.hasOwnProperty(userChoice)) {\n",
    "        total += menu[userChoice];\n",
    "        console.log(\"Added \" + userChoice + \" to your order. Current total: $\" + total.toFixed(2));\n",
    "    } else {\n",
    "        console.log(\"Invalid item. Please select from the menu.\");\n",
    "    }\n",
    "}\n",
    "\n",
    "console.log(\"Total cost of your meal: $\" + total.toFixed(2));\n"
   ]
  },
  {
   "cell_type": "markdown",
   "metadata": {},
   "source": [
    "## Hacks\n",
    "- Fix the errors in the first three segments in this notebook and say what you changed in the code cell under \"What I Changed\" (Challenge is optional)"
   ]
  }
 ],
 "metadata": {
  "kernelspec": {
   "display_name": "Python 3.10.6 64-bit",
   "language": "python",
   "name": "python3"
  },
  "language_info": {
   "codemirror_mode": {
    "name": "ipython",
    "version": 3
   },
   "file_extension": ".py",
   "mimetype": "text/x-python",
   "name": "python",
   "nbconvert_exporter": "python",
   "pygments_lexer": "ipython3",
   "version": "3.11.5"
  },
  "orig_nbformat": 4,
  "vscode": {
   "interpreter": {
    "hash": "aee8b7b246df8f9039afb4144a1f6fd8d2ca17a180786b69acc140d282b71a49"
   }
  }
 },
 "nbformat": 4,
 "nbformat_minor": 2
}
