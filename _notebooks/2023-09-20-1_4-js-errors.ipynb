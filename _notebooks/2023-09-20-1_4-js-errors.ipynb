{
 "cells": [
  {
   "cell_type": "markdown",
   "metadata": {},
   "source": [
    "---\n",
    "layout: post\n",
    "title: 1.4 Correcting errors\n",
    "description: Practice with identifying and correcting code blocks\n",
    "type: ccc\n",
    "author: Safin Singh and Rohan Juneja\n",
    "permalink: /basics/js-debug\n",
    "hide: True\n",
    "---"
   ]
  },
  {
   "cell_type": "markdown",
   "metadata": {},
   "source": [
    "## College Board Unit 1.4\n",
    "\n",
    "- Logic error: mistake in program that cuases it to behave incorrectly\n",
    "- Syntax error: rules of code aren't followed \n",
    "- Run-Time error: error in executing \n",
    "- Overflow error: when the computer tries to handle a number outside expected range "
   ]
  },
  {
   "cell_type": "markdown",
   "metadata": {},
   "source": [
    "## Segment 1: Alphabet List\n",
    "\n",
    "Intended behavior: create a list of characters from the string contained in the variable `alphabet`\n",
    "\n",
    "### Code:"
   ]
  },
  {
   "cell_type": "code",
   "execution_count": 3,
   "metadata": {
    "vscode": {
     "languageId": "javascript"
    }
   },
   "outputs": [
    {
     "data": {
      "application/javascript": "\n\nvar alphabet = \"abcdefghijklmnopqrstuvwxyz\";\nvar alphabetList = [];\n\nfor (var i = 0; i < 10; i++) {\n    alphabetList.push(alphabet[i]);\n}\n\nconsole.log(alphabetList);\n",
      "text/plain": [
       "<IPython.core.display.Javascript object>"
      ]
     },
     "metadata": {},
     "output_type": "display_data"
    }
   ],
   "source": [
    "%%js \n",
    "\n",
    "\n",
    "var alphabet = \"abcdefghijklmnopqrstuvwxyz\";\n",
    "var alphabetList = [];\n",
    "\n",
    "for (var i = 0; i < 10; i++) {\n",
    "    alphabetList.push(alphabet[i]);\n",
    "}\n",
    "\n",
    "console.log(alphabetList);"
   ]
  },
  {
   "cell_type": "markdown",
   "metadata": {},
   "source": [
    "### What I Changed\n",
    "\n",
    "I added alphabet i into the push because the original code only put the numbers 1-9 into the alphabet list. "
   ]
  },
  {
   "cell_type": "markdown",
   "metadata": {},
   "source": [
    "## Segment 2: Numbered Alphabet\n",
    "\n",
    "Intended behavior: print the number of a given alphabet letter within the alphabet. For example:\n",
    "```\n",
    "\"_\" is letter number _ in the alphabet\n",
    "```\n",
    "\n",
    "Where the underscores (_) are replaced with the letter and the position of that letter within the alphabet (e.g. a=1, b=2, etc.)\n",
    "\n",
    "### Code:"
   ]
  },
  {
   "cell_type": "code",
   "execution_count": 4,
   "metadata": {
    "vscode": {
     "languageId": "javascript"
    }
   },
   "outputs": [
    {
     "data": {
      "application/javascript": "\n// Copy your previous code to build alphabetList here\nvar alphabet = \"abcdefghijklmnopqrstuvwxyz\";\nvar alphabetList = [];\n\nfor (var i = 0; i < 10; i++) {\n    alphabetList.push(alphabet[i]);\n}\n\n// Specify the letterNumber you want to find (e.g., 5 for \"e\")\nlet letterNumber = 5;\n\nfor (var i = 0; i < alphabetList.length; i++) {\n    if (i === letterNumber - 1) {\n        console.log(alphabetList[i] + \" is letter number \" + letterNumber + \" in the alphabet\");\n    }\n}\n",
      "text/plain": [
       "<IPython.core.display.Javascript object>"
      ]
     },
     "metadata": {},
     "output_type": "display_data"
    }
   ],
   "source": [
    "%%js\n",
    "\n",
    "// Copy your previous code to build alphabetList here\n",
    "var alphabet = \"abcdefghijklmnopqrstuvwxyz\";\n",
    "var alphabetList = [];\n",
    "\n",
    "for (var i = 0; i < 10; i++) {\n",
    "    alphabetList.push(alphabet[i]);\n",
    "}\n",
    "\n",
    "// Specify the letterNumber you want to find (e.g., 5 for \"e\")\n",
    "let letterNumber = 5;\n",
    "\n",
    "for (var i = 0; i < alphabetList.length; i++) {\n",
    "    if (i === letterNumber - 1) {\n",
    "        console.log(alphabetList[i] + \" is letter number \" + letterNumber + \" in the alphabet\");\n",
    "    }\n",
    "}\n"
   ]
  },
  {
   "cell_type": "markdown",
   "metadata": {},
   "source": [
    "### What I Changed\n",
    "\n",
    "The code will output what letter in the alphabet a certain letter is. "
   ]
  },
  {
   "cell_type": "markdown",
   "metadata": {},
   "source": [
    "## Segment 3: Odd Numbers\n",
    "\n",
    "Intended behavior: print a list of all the odd numbers below 10\n",
    "\n",
    "### Code:"
   ]
  },
  {
   "cell_type": "code",
   "execution_count": null,
   "metadata": {
    "vscode": {
     "languageId": "javascript"
    }
   },
   "outputs": [],
   "source": [
    "%%js\n",
    "\n",
    "let evens = [];\n",
    "let i = 0;\n",
    "\n",
    "while (i <= 10) {\n",
    "  evens.push(i);\n",
    "  i += 2;\n",
    "}\n",
    "\n",
    "console.log(evens);"
   ]
  },
  {
   "cell_type": "markdown",
   "metadata": {},
   "source": [
    "### What I Changed\n",
    "\n",
    "I didn't change anything and the code should work as expected. "
   ]
  },
  {
   "cell_type": "markdown",
   "metadata": {},
   "source": [
    "# BELOW NOT EDITED"
   ]
  },
  {
   "cell_type": "markdown",
   "metadata": {},
   "source": [
    "The intended outcome is printing a number between 1 and 100 once, if it is a multiple of 2 or 5 \n",
    "- What values are outputted incorrectly. Why?\n",
    "- Make changes to get the intended outcome.\n",
    "\n",
    "The loop used should be for.. of and i should be used to acess the elements, not by finding them through the index "
   ]
  },
  {
   "cell_type": "code",
   "execution_count": 1,
   "metadata": {
    "vscode": {
     "languageId": "javascript"
    }
   },
   "outputs": [
    {
     "data": {
      "application/javascript": "var numbers = [];\nvar newNumbers = [];\nvar i = 0;\n\nwhile (i < 100) {\n    numbers.push(i);\n    i += 1;\n}\n\nfor (var number of numbers) {\n    if (number % 5 === 0) {\n        newNumbers.push(number);\n    }\n    if (number % 2 === 0) {\n        newNumbers.push(number);\n    }\n}\n\nconsole.log(newNumbers);\n",
      "text/plain": [
       "<IPython.core.display.Javascript object>"
      ]
     },
     "metadata": {},
     "output_type": "display_data"
    }
   ],
   "source": [
    "%%js\n",
    "var numbers = [];\n",
    "var newNumbers = [];\n",
    "var i = 0;\n",
    "\n",
    "while (i < 100) {\n",
    "    numbers.push(i);\n",
    "    i += 1;\n",
    "}\n",
    "\n",
    "for (var number of numbers) {\n",
    "    if (number % 5 === 0) {\n",
    "        newNumbers.push(number);\n",
    "    }\n",
    "    if (number % 2 === 0) {\n",
    "        newNumbers.push(number);\n",
    "    }\n",
    "}\n",
    "\n",
    "console.log(newNumbers);\n"
   ]
  },
  {
   "cell_type": "markdown",
   "metadata": {},
   "source": [
    "# Challenge\n",
    "\n",
    "This code segment is at a very early stage of implementation.\n",
    "- What are some ways to (user) error proof this code?\n",
    "    - They can have a running list of everything the user ordered \n",
    "- The code should be able to calculate the cost of the meal of the user\n",
    "    \n",
    "\n",
    "Hint:\n",
    "- write a “single” test describing an expectation of the program of the program\n",
    "- test - input burger, expect output of burger price\n",
    "- run the test, which should fail because the program lacks that feature\n",
    "- write “just enough” code, the simplest possible, to make the test pass\n",
    "\n",
    "Then repeat this process until you get program working like you want it to work."
   ]
  },
  {
   "cell_type": "code",
   "execution_count": 2,
   "metadata": {
    "vscode": {
     "languageId": "javascript"
    }
   },
   "outputs": [
    {
     "data": {
      "application/javascript": "var menu = {\n    \"burger\": 3.99,\n    \"fries\": 1.99,\n    \"drink\": 0.99\n};\nvar total = 0;\n\nconsole.log(\"Menu\");\nfor (var item in menu) {\n    console.log(item + \"  $\" + menu[item].toFixed(2));\n}\n\nwhile (true) {\n    var userChoice = prompt(\"Enter an item from the menu (or 'done' to finish):\");\n    if (userChoice === null || userChoice.toLowerCase() === 'done') {\n        break;\n    }\n    if (menu.hasOwnProperty(userChoice)) {\n        total += menu[userChoice];\n        console.log(\"Added \" + userChoice + \" to your order. Current total: $\" + total.toFixed(2));\n    } else {\n        console.log(\"Invalid item. Please select from the menu.\");\n    }\n}\n\nconsole.log(\"Total cost of your meal: $\" + total.toFixed(2));\n",
      "text/plain": [
       "<IPython.core.display.Javascript object>"
      ]
     },
     "metadata": {},
     "output_type": "display_data"
    }
   ],
   "source": [
    "%%js \n",
    "var menu = {\n",
    "    \"burger\": 3.99,\n",
    "    \"fries\": 1.99,\n",
    "    \"drink\": 0.99\n",
    "};\n",
    "var total = 0;\n",
    "\n",
    "console.log(\"Menu\");\n",
    "for (var item in menu) {\n",
    "    console.log(item + \"  $\" + menu[item].toFixed(2));\n",
    "}\n",
    "\n",
    "while (true) {\n",
    "    var userChoice = prompt(\"Enter an item from the menu (or 'done' to finish):\");\n",
    "    if (userChoice === null || userChoice.toLowerCase() === 'done') {\n",
    "        break;\n",
    "    }\n",
    "    if (menu.hasOwnProperty(userChoice)) {\n",
    "        total += menu[userChoice];\n",
    "        console.log(\"Added \" + userChoice + \" to your order. Current total: $\" + total.toFixed(2));\n",
    "    } else {\n",
    "        console.log(\"Invalid item. Please select from the menu.\");\n",
    "    }\n",
    "}\n",
    "\n",
    "console.log(\"Total cost of your meal: $\" + total.toFixed(2));\n"
   ]
  },
  {
   "cell_type": "markdown",
   "metadata": {},
   "source": [
    "## Hacks\n",
    "- Fix the errors in the first three segments in this notebook and say what you changed in the code cell under \"What I Changed\" (Challenge is optional)"
   ]
  }
 ],
 "metadata": {
  "kernelspec": {
   "display_name": "Python 3.10.6 64-bit",
   "language": "python",
   "name": "python3"
  },
  "language_info": {
   "codemirror_mode": {
    "name": "ipython",
    "version": 3
   },
   "file_extension": ".py",
   "mimetype": "text/x-python",
   "name": "python",
   "nbconvert_exporter": "python",
   "pygments_lexer": "ipython3",
   "version": "3.11.5"
  },
  "orig_nbformat": 4,
  "vscode": {
   "interpreter": {
    "hash": "aee8b7b246df8f9039afb4144a1f6fd8d2ca17a180786b69acc140d282b71a49"
   }
  }
 },
 "nbformat": 4,
 "nbformat_minor": 2
}
