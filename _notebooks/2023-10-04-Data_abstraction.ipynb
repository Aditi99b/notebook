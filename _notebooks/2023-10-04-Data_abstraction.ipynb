{
 "cells": [
  {
   "cell_type": "markdown",
   "metadata": {},
   "source": [
    "---\n",
    "toc: true\n",
    "comments: true \n",
    "layout: post\n",
    "title: Student Teaching Data Abstraction\n",
    "description: Student Teaching\n",
    "type: hacks\n",
    "courses: { compsci: {week: 7} }\n",
    "---"
   ]
  },
  {
   "cell_type": "markdown",
   "metadata": {},
   "source": [
    "## Data Abstraction "
   ]
  },
  {
   "cell_type": "markdown",
   "metadata": {},
   "source": [
    "## Homework: "
   ]
  },
  {
   "cell_type": "code",
   "execution_count": 5,
   "metadata": {},
   "outputs": [
    {
     "name": "stdout",
     "output_type": "stream",
     "text": [
      "Aditi is 15 years old\n",
      "Eshika is 15 years old\n",
      "Cindy is 15 years old\n",
      "The oldest person is Samhita with age 16\n"
     ]
    }
   ],
   "source": [
    "class Person:\n",
    "    def __init__(self, name, age):\n",
    "        self.name = name\n",
    "        self.age = age\n",
    "\n",
    "def print_people(people):\n",
    "    for person in people:\n",
    "        print(f\"{person.name} is {person.age} years old\")\n",
    "\n",
    "def get_oldest_person(people_dict):\n",
    "    if not people_dict:\n",
    "        return None\n",
    "\n",
    "    oldest_person = max(people_dict, key=lambda k: people_dict[k])\n",
    "    return oldest_person\n",
    "\n",
    "# Example usage:\n",
    "\n",
    "# Creating a list of Person objects\n",
    "people_list = [\n",
    "    Person(\"Aditi\", 15),\n",
    "    Person(\"Eshika\", 15),\n",
    "    Person(\"Cindy\", 15),\n",
    "]\n",
    "\n",
    "# Calling the print_people function\n",
    "print_people(people_list)\n",
    "\n",
    "# Creating a dictionary of people and their ages\n",
    "people_dict = {\n",
    "    \"Samhita\": 16,\n",
    "    \"Nithika\": 15,\n",
    "    \"Anusha\": 15,\n",
    "}\n",
    "\n",
    "# Calling the get_oldest_person function\n",
    "oldest_person = get_oldest_person(people_dict)\n",
    "if oldest_person:\n",
    "    print(f\"The oldest person is {oldest_person} with age {people_dict[oldest_person]}\")\n",
    "else:\n",
    "    print(\"No people in the dictionary.\")"
   ]
  },
  {
   "cell_type": "markdown",
   "metadata": {},
   "source": [
    "## Popcorn Hacks "
   ]
  },
  {
   "cell_type": "code",
   "execution_count": 20,
   "metadata": {},
   "outputs": [
    {
     "name": "stdout",
     "output_type": "stream",
     "text": [
      "15\n",
      "True\n",
      "Aditi is 16 years old\n",
      "Cindy is better than Eshika\n"
     ]
    }
   ],
   "source": [
    "age = 15\n",
    "print(age)\n",
    "\n",
    "birthday = True\n",
    "print(birthday)\n",
    "\n",
    "age = 16\n",
    "\n",
    "name = \"Aditi\"\n",
    "print (name , \"is\" , age , \"years old\")\n",
    "\n",
    "friend1 = \"Eshika\"\n",
    "\n",
    "friend2 = \"Cindy\"\n",
    "\n",
    "friend_list = [name, friend1, friend2]\n",
    "print(friend_list [2] , \"is better than\" , friend_list [1])"
   ]
  },
  {
   "cell_type": "code",
   "execution_count": 22,
   "metadata": {},
   "outputs": [
    {
     "name": "stdout",
     "output_type": "stream",
     "text": [
      "[\"Aditi\", \"Cindy\", \"Eshika\", \"Samhita\"]\n"
     ]
    }
   ],
   "source": [
    "import json \n",
    "string = [\"Aditi\", \"Cindy\", \"Eshika\", \"Samhita\"]\n",
    "json_obj = json.dumps(string)\n",
    "print(json_obj)"
   ]
  },
  {
   "cell_type": "code",
   "execution_count": 3,
   "metadata": {},
   "outputs": [
    {
     "name": "stdout",
     "output_type": "stream",
     "text": [
      "Name: Aditi\n",
      "Age: 15\n"
     ]
    }
   ],
   "source": [
    "name = \"Aditi\"\n",
    "age = 15\n",
    "print(\"Name:\", name)\n",
    "print(\"Age:\", age)"
   ]
  },
  {
   "cell_type": "code",
   "execution_count": 4,
   "metadata": {},
   "outputs": [
    {
     "name": "stderr",
     "output_type": "stream",
     "text": [
      "\n",
      "KeyboardInterrupt\n",
      "\n"
     ]
    }
   ],
   "source": [
    "index = int(input(\"Input the Fibonacci sequence index():\")) - 1\n",
    "\n",
    "num1 = 0\n",
    "num2 = 1\n",
    "\n",
    "for i in range(index):\n",
    "    tempnum1 = num2\n",
    "    num2 = num1 + num2\n",
    "    num1 = tempnum1\n",
    "print(num1)"
   ]
  }
 ],
 "metadata": {
  "kernelspec": {
   "display_name": "Python 3",
   "language": "python",
   "name": "python3"
  },
  "language_info": {
   "codemirror_mode": {
    "name": "ipython",
    "version": 3
   },
   "file_extension": ".py",
   "mimetype": "text/x-python",
   "name": "python",
   "nbconvert_exporter": "python",
   "pygments_lexer": "ipython3",
   "version": "3.11.6"
  },
  "orig_nbformat": 4
 },
 "nbformat": 4,
 "nbformat_minor": 2
}
