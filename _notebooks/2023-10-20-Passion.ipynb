{
 "cells": [
  {
   "cell_type": "markdown",
   "metadata": {},
   "source": [
    "---\n",
    "toc: false\n",
    "comments: true\n",
    "layout: post\n",
    "title: Student Teaching Lists \n",
    "courses: { compsci: {week: 5} }\n",
    "type: tangibles\n",
    "---"
   ]
  },
  {
   "cell_type": "code",
   "execution_count": 1,
   "metadata": {
    "vscode": {
     "languageId": "javascript"
    }
   },
   "outputs": [
    {
     "data": {
      "application/javascript": "// Define the quiz object with questions as keys and answers as values\nconst quiz = {\n  \"Is lung the leading cancer killer of both men and women in the US?\": \"yes\",\n  \"How many people in the US are currently living with lung cancer? It's in the 100,000s\": \"400,000\",\n  \"81% of people living with lung cancer are above which age?\": \"60\",\n  \"What is the survival rate of lung cancer? It's really small! (no percent sign)\": \"17\",\n  \"Climate change could be irreversible by what year? We don't have much time left!\": \"2030\",\n};\n\n// Function to administer the quiz\nfunction runQuiz() {\n  const totalQuestions = Object.keys(quiz).length;\n  const correctAnswers = Object.values(quiz);\n  let score = 0;\n\n  let i = 1;\n  for (const [question, correctAnswer] of Object.entries(quiz)) {\n    console.log(`\\nQuestion ${i}: ${question}`);\n    const userAnswer = prompt(\"Your answer: \").trim().toLowerCase();\n\n    if (userAnswer === correctAnswer) {\n      console.log(\"Correct!\");\n      score++;\n    } else {\n      console.log(`Incorrect! The correct answer is: ${correctAnswer}`);\n    }\n\n    i++;\n  }\n\n  // Calculate the score as a percentage and provide the total correct answers\n  const percentageScore = (score / totalQuestions) * 100;\n  console.log(\"\\nQuiz completed!\");\n  console.log(`Congrats, you scored ${percentageScore.toFixed(2)}%.`);\n  console.log(`You answered ${score} out of ${totalQuestions} questions correctly.`);\n}\n\n// Run the quiz\nrunQuiz();\n",
      "text/plain": [
       "<IPython.core.display.Javascript object>"
      ]
     },
     "metadata": {},
     "output_type": "display_data"
    }
   ],
   "source": [
    "%%js\n",
    "// Define the quiz object with questions as keys and answers as values\n",
    "const quiz = {\n",
    "  \"Is lung the leading cancer killer of both men and women in the US?\": \"yes\",\n",
    "  \"How many people in the US are currently living with lung cancer? It's in the 100,000s\": \"400,000\",\n",
    "  \"81% of people living with lung cancer are above which age?\": \"60\",\n",
    "  \"What is the survival rate of lung cancer? It's really small! (no percent sign)\": \"17\",\n",
    "  \"Climate change could be irreversible by what year? We don't have much time left!\": \"2030\",\n",
    "};\n",
    "\n",
    "// Function to administer the quiz\n",
    "function runQuiz() {\n",
    "  const totalQuestions = Object.keys(quiz).length;\n",
    "  const correctAnswers = Object.values(quiz);\n",
    "  let score = 0;\n",
    "\n",
    "  let i = 1;\n",
    "  for (const [question, correctAnswer] of Object.entries(quiz)) {\n",
    "    console.log(`\\nQuestion ${i}: ${question}`);\n",
    "    const userAnswer = prompt(\"Your answer: \").trim().toLowerCase();\n",
    "\n",
    "    if (userAnswer === correctAnswer) {\n",
    "      console.log(\"Correct!\");\n",
    "      score++;\n",
    "    } else {\n",
    "      console.log(`Incorrect! The correct answer is: ${correctAnswer}`);\n",
    "    }\n",
    "\n",
    "    i++;\n",
    "  }\n",
    "\n",
    "  // Calculate the score as a percentage and provide the total correct answers\n",
    "  const percentageScore = (score / totalQuestions) * 100;\n",
    "  console.log(\"\\nQuiz completed!\");\n",
    "  console.log(`Congrats, you scored ${percentageScore.toFixed(2)}%.`);\n",
    "  console.log(`You answered ${score} out of ${totalQuestions} questions correctly.`);\n",
    "}\n",
    "\n",
    "// Run the quiz\n",
    "runQuiz();"
   ]
  }
 ],
 "metadata": {
  "kernelspec": {
   "display_name": "Python 3",
   "language": "python",
   "name": "python3"
  },
  "language_info": {
   "codemirror_mode": {
    "name": "ipython",
    "version": 3
   },
   "file_extension": ".py",
   "mimetype": "text/x-python",
   "name": "python",
   "nbconvert_exporter": "python",
   "pygments_lexer": "ipython3",
   "version": "3.11.6"
  }
 },
 "nbformat": 4,
 "nbformat_minor": 2
}
