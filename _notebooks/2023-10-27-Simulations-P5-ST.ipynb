{
 "cells": [
  {
   "cell_type": "markdown",
   "metadata": {},
   "source": [
    "---\n",
    "toc: false\n",
    "comments: true\n",
    "layout: post\n",
    "title: Student Teaching Simulation!  \n",
    "courses: { compsci: {week: 11} }\n",
    "type: hacks\n",
    "---"
   ]
  },
  {
   "cell_type": "markdown",
   "metadata": {},
   "source": [
    "## SUMMARY\n",
    "Simulations are simplified computer models that mimic real-world events. They allow us to study complex systems without real-world limitations. In simulations, we can adjust values and rules to see how they impact the outcomes. Simulations are valuable when real experiments are difficult, costly, or unsafe."
   ]
  },
  {
   "cell_type": "markdown",
   "metadata": {},
   "source": [
    "> A simulation is the use of a computer software to represent the dynamic responses of one system by the behaviour of another system modeled after it. A simulation uses a mathematical descriptions, or models, of a real system in the form of a computer program."
   ]
  },
  {
   "cell_type": "markdown",
   "metadata": {},
   "source": [
    "![simulation](https://www.simscale.com/wp-content/uploads/2022/11/dron-quadcopter-simulation.png)"
   ]
  },
  {
   "cell_type": "markdown",
   "metadata": {},
   "source": [
    "## College Board Essential Knowledge"
   ]
  },
  {
   "cell_type": "markdown",
   "metadata": {},
   "source": [
    "> Simulation are absractions of more complex objects or phenomena for a specific purpose \n",
    "\n",
    "- Mimic Real World Events\n",
    "- Allows investigation of phenomenons without contraints of the Real World\n",
    "- Helps you draw accurate inferences\n",
    "\n",
    "> Simulations utilize varying sets of values to reflect the changings states of a phenomenon\n",
    "\n",
    "- simulations can simplfly things for functionality\n",
    "- Simulations can contain bias from real world elements, that were chosen to be included or excluded\n",
    "\n",
    "> Simulations work best when the real world experemnts are too impractical or time consuming. For example, simulating how different cars behave when they crash, would be much better than crashng actual cars in the real world, which would be expensive and dangerous.\n",
    "\n",
    "<a href=\"https://ibb.co/f4jKcBY\"><img src=\"https://i.ibb.co/NZck4Q6/simulations-vs-experiments.png\" alt=\"simulations-vs-experiments\" border=\"0\"></a>\n"
   ]
  },
  {
   "cell_type": "markdown",
   "metadata": {},
   "source": [
    "## Rolling the Dice"
   ]
  },
  {
   "cell_type": "markdown",
   "metadata": {},
   "source": [
    "<a href=\"https://ibb.co/PGBhfPD\"><img src=\"https://i.ibb.co/XxmsvKY/craps-rolling-seven-7.jpg\" alt=\"craps-rolling-seven-7\" border=\"0\"></a>\n",
    "\n",
    "> Simulating something like a dice roll in real life would require accounting for things like: weight, flaws in design, thrust, and gravity.\n",
    "- KEEP IT SIMPLE! just use a random-number generator! Ignore minor causes of variablility"
   ]
  },
  {
   "cell_type": "markdown",
   "metadata": {},
   "source": [
    "## Random"
   ]
  },
  {
   "cell_type": "markdown",
   "metadata": {},
   "source": [
    "- \"Random\" is a built-in python function that allow the user to draw a random value from a set range.\n",
    "- A Random Number Generator (RNG) is a common simulation that selects a random value from an array.\n",
    "- The following code cell utilizes \"random\" to select a number from 1 to 100."
   ]
  },
  {
   "cell_type": "code",
   "execution_count": null,
   "metadata": {},
   "outputs": [],
   "source": [
    "#imports random module so we can use it in our code\n",
    "import random\n",
    "\n",
    "#sets variable random_number as a random number between 1 and 100\n",
    "random_number = random.randint(1, 100)\n",
    "\n",
    "#Printing out your random Number\n",
    "print(random_number)"
   ]
  },
  {
   "cell_type": "markdown",
   "metadata": {},
   "source": [
    "## More complex usage of \"random\"; Coin Toss Simulation"
   ]
  },
  {
   "cell_type": "code",
   "execution_count": 1,
   "metadata": {},
   "outputs": [
    {
     "name": "stdout",
     "output_type": "stream",
     "text": [
      "Number of Heads: 477\n",
      "Number of Tails: 523\n",
      "Heads Probability: {0.477}\n",
      "Tails Probability: {0.523}\n"
     ]
    }
   ],
   "source": [
    "import random\n",
    "def flip_coin():\n",
    "    return random.choice([\"Heads\", \"Tails\"])\n",
    "def coin_flip_simulation(num_flips):\n",
    "    heads_count = 0\n",
    "    tails_count = 0\n",
    "    for _ in range(num_flips):\n",
    "        result = flip_coin()\n",
    "        if result == \"Heads\":\n",
    "            heads_count += 1\n",
    "        else:\n",
    "            tails_count += 1\n",
    "    return heads_count, tails_count\n",
    "if __name__ == \"__main__\":\n",
    "    num_flips = 1000  #This is the number of coin flips you want to simulate\n",
    "    heads, tails = coin_flip_simulation(num_flips)\n",
    "    print(\"Number of Heads: \"+ str(heads))\n",
    "    print(\"Number of Tails: \" + str(tails))\n",
    "    print(\"Heads Probability: \"+ str({heads / num_flips}))\n",
    "    print(\"Tails Probability: \"+ str({tails / num_flips}))"
   ]
  },
  {
   "cell_type": "markdown",
   "metadata": {},
   "source": [
    "## Popcorn Hack #1"
   ]
  },
  {
   "cell_type": "markdown",
   "metadata": {},
   "source": [
    "Utilize \"random\" to create a basic simulation of a rolling TWO dice. Print the sum of both dice rolls. Remember to practice good syntax when naming your variables. "
   ]
  },
  {
   "cell_type": "code",
   "execution_count": 1,
   "metadata": {},
   "outputs": [
    {
     "name": "stdout",
     "output_type": "stream",
     "text": [
      "First die: 1\n",
      "Second die: 1\n",
      "Total sum: 2\n"
     ]
    }
   ],
   "source": [
    "import random  # Import the random module for generating random numbers\n",
    "\n",
    "# Simulate rolling two dice\n",
    "die1 = random.randint(1, 6)  # Roll the first die (1 to 6)\n",
    "die2 = random.randint(1, 6)  # Roll the second die (1 to 6)\n",
    "\n",
    "# Calculate the sum of the two dice rolls\n",
    "total = die1 + die2\n",
    "\n",
    "# Print the results\n",
    "print(f\"First die: {die1}\")  # Print the result of the first die roll\n",
    "print(f\"Second die: {die2}\")  # Print the result of the second die roll\n",
    "print(f\"Total sum: {total}\")  # Print the total sum of the two dice rolls"
   ]
  },
  {
   "cell_type": "markdown",
   "metadata": {},
   "source": [
    "## Algorithms\n",
    ">Simulations often utilize algorithms and equations to perform tasks because simulations don't always have the same output\n",
    "- the output of a simulation depends on the input\n",
    "\n",
    ">An algorithm is a finite sequence of instructions used to solve problems or perform computations. \n",
    "- commonly used alongside functions\n"
   ]
  },
  {
   "cell_type": "markdown",
   "metadata": {},
   "source": [
    "## Example Algorithm in a function"
   ]
  },
  {
   "cell_type": "code",
   "execution_count": 42,
   "metadata": {},
   "outputs": [
    {
     "data": {
      "text/plain": [
       "7"
      ]
     },
     "execution_count": 42,
     "metadata": {},
     "output_type": "execute_result"
    }
   ],
   "source": [
    "#Defining Function\n",
    "def algorithm(input):\n",
    "    \n",
    "    #Manipulating input and preparing it for the output.  \n",
    "    output = input+2\n",
    "    \n",
    "    #Return the output\n",
    "    return output\n",
    "\n",
    "#Call the Function to start the algorithm\n",
    "algorithm(5)\n",
    "    "
   ]
  },
  {
   "cell_type": "markdown",
   "metadata": {},
   "source": [
    "## Mathematics\n",
    "- Math can also prove to be very useful in certain types of situations.\n",
    "- Commonly used along with Algorithms when simulating various things\n",
    "\n",
    "![math](https://pythontutorialhome.files.wordpress.com/2019/05/image-2.png)\n"
   ]
  },
  {
   "cell_type": "markdown",
   "metadata": {},
   "source": [
    "## Popcorn Hack #2"
   ]
  },
  {
   "cell_type": "markdown",
   "metadata": {},
   "source": [
    "Simulate how long an object will fall for using an algorithm, with user-inputed variables for height dropped. Use the following formula as a reference.\n",
    "\n",
    "![gravity ](https://hepweb.ucsd.edu/ph110b/110b_notes/img272.png)\n",
    "\n",
    "- t = time (output)\n",
    "- h = height dropped from (input)\n",
    "- g = constant (given)"
   ]
  },
  {
   "cell_type": "code",
   "execution_count": 4,
   "metadata": {},
   "outputs": [
    {
     "name": "stdout",
     "output_type": "stream",
     "text": [
      "The object will fall for approximately 0.78 seconds.\n"
     ]
    }
   ],
   "source": [
    "# Constant, Acceleration due to gravity (m/s^2)\n",
    "g = 9.81  # You should use 'g' consistently\n",
    "\n",
    "# Get the height from the user (in meters)\n",
    "h = float(input(\"Enter the height from which the object is dropped (in meters): \"))\n",
    "\n",
    "# Calculate the time it takes to fall using the formula\n",
    "t = (2 * h / g) ** 0.5\n",
    "\n",
    "# Print the result\n",
    "print(f\"The object will fall for approximately {t:.2f} seconds.\")\n"
   ]
  },
  {
   "cell_type": "markdown",
   "metadata": {},
   "source": [
    "# Using Loops in Simulations"
   ]
  },
  {
   "cell_type": "markdown",
   "metadata": {},
   "source": [
    "> For loops can also be used in simulations\n",
    "- They can simulate events that repeat but don't always have the same output\n"
   ]
  },
  {
   "cell_type": "code",
   "execution_count": 44,
   "metadata": {},
   "outputs": [
    {
     "name": "stdout",
     "output_type": "stream",
     "text": [
      "This is run number: 0\n",
      "This is run number: 1\n",
      "This is run number: 2\n",
      "This is run number: 3\n"
     ]
    }
   ],
   "source": [
    "# Example For Loop\n",
    "\n",
    "#Creating For Loop to repeat 4 times\n",
    "for i in range(4):\n",
    "    \n",
    "    #Action that happens inside for loop\n",
    "    print(\"This is run number: \" + str(i))\n",
    "    "
   ]
  },
  {
   "cell_type": "markdown",
   "metadata": {},
   "source": [
    "## Popcorn Hack #3"
   ]
  },
  {
   "cell_type": "markdown",
   "metadata": {},
   "source": [
    "You are gambling addict (sigma). \n",
    "\n",
    "Each session you roll 2 dice.\n",
    "\n",
    "If your dice roll is greater than or equal to 9 you win the session.\n",
    "\n",
    "If you win over 5 sessions, you win the jackpot.\n",
    "\n",
    "Simulate your odds to predict if you will hit the jackpot (how many rounds did you win?) using a for loop and random.\n"
   ]
  },
  {
   "cell_type": "code",
   "execution_count": 5,
   "metadata": {},
   "outputs": [
    {
     "name": "stdout",
     "output_type": "stream",
     "text": [
      "Simulated 10000 sessions.\n",
      "Total wins in individual sessions: 2787\n",
      "Jackpot wins (5 or more sessions won): 9993\n"
     ]
    }
   ],
   "source": [
    "# Code Code Code\n",
    "\n",
    "import random\n",
    "\n",
    "# Define constants\n",
    "sessions = 10000  # Number of sessions to simulate\n",
    "jackpot_threshold = 5  # Number of sessions needed to win the jackpot\n",
    "\n",
    "# Initialize variables to keep track of wins\n",
    "total_wins = 0\n",
    "jackpot_wins = 0\n",
    "\n",
    "# Simulate sessions\n",
    "for _ in range(sessions):\n",
    "    # Roll two dice\n",
    "    dice1 = random.randint(1, 6)\n",
    "    dice2 = random.randint(1, 6)\n",
    "    \n",
    "    # Calculate the sum of the dice rolls\n",
    "    dice_sum = dice1 + dice2\n",
    "    \n",
    "    # Check if you won the session\n",
    "    if dice_sum >= 9:\n",
    "        total_wins += 1\n",
    "    \n",
    "    # Check if you won the jackpot\n",
    "    if total_wins >= jackpot_threshold:\n",
    "        jackpot_wins += 1\n",
    "\n",
    "# Print the results\n",
    "print(f\"Simulated {sessions} sessions.\")\n",
    "print(f\"Total wins in individual sessions: {total_wins}\")\n",
    "print(f\"Jackpot wins (5 or more sessions won): {jackpot_wins}\")"
   ]
  },
  {
   "cell_type": "markdown",
   "metadata": {},
   "source": [
    "## BONUS POPCORN HACK\n",
    "> Welcome to Flight Simulator! Your goal is to complete a Python program that simulates a flight We've set up some initial values for altitude, speed, and fuel. Your task is to update these values to make the flight more realistic.\n",
    "\n",
    "- Your mission:\n",
    "\n",
    "1. Use random changes to simulate altitude, speed, and fuel changes.\n",
    "2. Keep the flight going until it reaches 10,000 feet or runs out of fuel.\n",
    "3. Make sure altitude, speed, and fuel remain realistic."
   ]
  },
  {
   "cell_type": "code",
   "execution_count": null,
   "metadata": {},
   "outputs": [],
   "source": [
    "import random\n",
    "\n",
    "# Initial parameters\n",
    "altitude = 0\n",
    "speed = 0\n",
    "fuel = 100\n",
    "\n",
    "print(\"Welcome to Flight Simulator!\")\n",
    "\n",
    "# Code Code Code"
   ]
  },
  {
   "cell_type": "markdown",
   "metadata": {},
   "source": [
    "## QUIZ TIME"
   ]
  },
  {
   "cell_type": "markdown",
   "metadata": {},
   "source": [
    "- Quick true or false quiz, whoever answers this correctly(raise your hand) gets a piece of gum or a dinero. \n",
    "<hr>\n",
    "\n",
    "> T or F    \n",
    "- A simulation will always have the same result.\n",
    "> T or F    \n",
    "- A simulation investigates a phenomenom without real-world constraints of time, money, or safety.\n",
    "> T or F    \n",
    "- A simulation has results which are more accurate than an experiment,\n",
    "> T or F    \n",
    "- A simulation can model real-worl events that are not practical for experiments"
   ]
  },
  {
   "cell_type": "markdown",
   "metadata": {},
   "source": [
    "## HOMEWORK HACK #1 "
   ]
  },
  {
   "cell_type": "markdown",
   "metadata": {},
   "source": [
    "First finish Popcorn Hack #3. Expand the simulation to involve your own money.\n",
    "\n",
    "starting money: $100\n",
    "\n",
    "(Dice Roll <= 3) &rarr; lose $70\n",
    "\n",
    "( 6> Dice Roll >3) &rarr; lose $40\n",
    "\n",
    "( 9> Dice Roll >=6) &rarr; win $20\n",
    "\n",
    "( Dice Roll>= 9 + Session Win) &rarr; win $50\n",
    "\n",
    "Jackpot &rarr; win $100"
   ]
  },
  {
   "cell_type": "code",
   "execution_count": 6,
   "metadata": {},
   "outputs": [
    {
     "name": "stdout",
     "output_type": "stream",
     "text": [
      "Simulated 10000 sessions.\n",
      "Total wins in individual sessions: 4453\n",
      "Jackpot wins (5 or more sessions won): 9990\n",
      "Final money: $88860\n"
     ]
    }
   ],
   "source": [
    "# Code Code Code\n",
    "import random\n",
    "\n",
    "# Constants\n",
    "sessions = 10000  # Number of sessions to simulate\n",
    "jackpot_threshold = 5  # Number of sessions needed to win the jackpot\n",
    "starting_money = 100  # Starting amount of money\n",
    "\n",
    "# Initialize variables\n",
    "total_wins = 0\n",
    "jackpot_wins = 0\n",
    "money = starting_money\n",
    "\n",
    "# Simulate sessions\n",
    "for _ in range(sessions):\n",
    "    # Roll two dice\n",
    "    dice1 = random.randint(1, 6)\n",
    "    dice2 = random.randint(1, 6)\n",
    "    \n",
    "    # Calculate the sum of the dice rolls\n",
    "    dice_sum = dice1 + dice2\n",
    "    \n",
    "    # Update money based on dice roll\n",
    "    if dice_sum <= 3:\n",
    "        money -= 70\n",
    "    elif dice_sum > 3 and dice_sum < 6:\n",
    "        money -= 40\n",
    "    elif dice_sum >= 6 and dice_sum < 9:\n",
    "        money += 20\n",
    "        total_wins += 1\n",
    "    else:\n",
    "        money += 50\n",
    "    \n",
    "    # Check if you won the jackpot\n",
    "    if total_wins >= jackpot_threshold:\n",
    "        jackpot_wins += 1\n",
    "\n",
    "# Print the results\n",
    "print(f\"Simulated {sessions} sessions.\")\n",
    "print(f\"Total wins in individual sessions: {total_wins}\")\n",
    "print(f\"Jackpot wins (5 or more sessions won): {jackpot_wins}\")\n",
    "print(f\"Final money: ${money}\")"
   ]
  },
  {
   "cell_type": "markdown",
   "metadata": {},
   "source": [
    "## HOMEWORK HACK #2"
   ]
  },
  {
   "cell_type": "markdown",
   "metadata": {},
   "source": [
    "> Given initial parameters for a car simulation, including its initial speed, acceleration rate, deceleration rate, maximum speed, and initial distance, write a  program to simulate the car's journey and determine the final speed, distance covered, and time taken before it either covers 1000 meters or slows down to below 5 m/s?"
   ]
  },
  {
   "cell_type": "code",
   "execution_count": 7,
   "metadata": {},
   "outputs": [
    {
     "name": "stdout",
     "output_type": "stream",
     "text": [
      "The car slowed down to below 5 m/s before reaching 1000 meters.\n"
     ]
    }
   ],
   "source": [
    "# Initial parameters\n",
    "speed = 0  # Initial speed\n",
    "acceleration = 2  # Acceleration rate in m/s^2\n",
    "deceleration = 1  # Deceleration rate in m/s^2\n",
    "max_speed = 60  # Maximum speed in m/s\n",
    "distance = 0  # Initial distance\n",
    "time = 0  # Initial time\n",
    "\n",
    "#Code Code Code\n",
    "\n",
    "# Constants\n",
    "target_distance = 1000  # Target distance in meters\n",
    "min_speed = 5  # Minimum speed in m/s\n",
    "\n",
    "# Simulate the car's journey\n",
    "while distance < target_distance and speed >= min_speed:\n",
    "    # Calculate the distance covered during this time step\n",
    "    distance_covered = speed + 0.5 * acceleration\n",
    "    \n",
    "    # Check if the car has reached the maximum speed\n",
    "    if speed < max_speed:\n",
    "        speed += acceleration\n",
    "    else:\n",
    "        speed = max_speed\n",
    "    \n",
    "    # Update the distance and time\n",
    "    distance += distance_covered\n",
    "    time += 1\n",
    "\n",
    "# Print the results\n",
    "if distance >= target_distance:\n",
    "    print(f\"The car covered {distance:.2f} meters.\")\n",
    "    print(f\"Final speed: {speed:.2f} m/s\")\n",
    "    print(f\"Time taken: {time} seconds\")\n",
    "else:\n",
    "    print(\"The car slowed down to below 5 m/s before reaching 1000 meters.\")\n"
   ]
  }
 ],
 "metadata": {
  "kernelspec": {
   "display_name": "Python 3",
   "language": "python",
   "name": "python3"
  },
  "language_info": {
   "codemirror_mode": {
    "name": "ipython",
    "version": 3
   },
   "file_extension": ".py",
   "mimetype": "text/x-python",
   "name": "python",
   "nbconvert_exporter": "python",
   "pygments_lexer": "ipython3",
   "version": "3.11.6"
  },
  "orig_nbformat": 4
 },
 "nbformat": 4,
 "nbformat_minor": 2
}
