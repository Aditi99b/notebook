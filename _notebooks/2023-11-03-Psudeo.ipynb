{
 "cells": [
  {
   "cell_type": "markdown",
   "metadata": {},
   "source": [
    "---\n",
    "toc: true\n",
    "comments: false\n",
    "layout: post\n",
    "title: Psudeo Code \n",
    "description: Psudeo Code in relation to Python \n",
    "type: tangibles\n",
    "courses: { compsci: {week: 11} }\n",
    "---"
   ]
  },
  {
   "cell_type": "markdown",
   "metadata": {},
   "source": [
    "Pusedo Code is a simplified version of code that is used on the AP exam. Here are a few examples of Psudeo Code vs Python: \n",
    "\n",
    "## Find sum of even numbers \n",
    "PSUDEO CODE: \n",
    "\n",
    "- START\n",
    "- Initialize sum to 0\n",
    "- For each number from 1 to 10:\n",
    "- If the number is even:\n",
    "- Add the number to sum\n",
    "- Display sum\n",
    "- END"
   ]
  },
  {
   "cell_type": "code",
   "execution_count": 1,
   "metadata": {},
   "outputs": [
    {
     "name": "stdout",
     "output_type": "stream",
     "text": [
      "30\n"
     ]
    }
   ],
   "source": [
    "# Initialize sum to 0\n",
    "sum = 0\n",
    "\n",
    "# For each number from 1 to 10\n",
    "for num in range(1, 11):\n",
    "    # If the number is even\n",
    "    if num % 2 == 0:\n",
    "        # Add the number to sum\n",
    "        sum += num\n",
    "\n",
    "# Display sum\n",
    "print(sum)"
   ]
  },
  {
   "cell_type": "markdown",
   "metadata": {},
   "source": [
    "Example 2: Factorial Calculation\n",
    "Pseudo Code:\n",
    "START\n",
    "    Input a number 'n'\n",
    "    Initialize result to 1\n",
    "    For each number from 1 to 'n':\n",
    "        Multiply result by the number\n",
    "    Display result\n",
    "END"
   ]
  },
  {
   "cell_type": "code",
   "execution_count": 2,
   "metadata": {},
   "outputs": [
    {
     "name": "stdout",
     "output_type": "stream",
     "text": [
      "Factorial of 1 is 1\n"
     ]
    }
   ],
   "source": [
    "# Input a number 'n'\n",
    "n = int(input(\"Enter a number: \"))\n",
    "\n",
    "# Initialize result to 1\n",
    "result = 1\n",
    "\n",
    "# For each number from 1 to 'n'\n",
    "for num in range(1, n + 1):\n",
    "    # Multiply result by the number\n",
    "    result *= num\n",
    "\n",
    "# Display result\n",
    "print(\"Factorial of\", n, \"is\", result)"
   ]
  }
 ],
 "metadata": {
  "kernelspec": {
   "display_name": "Python 3",
   "language": "python",
   "name": "python3"
  },
  "language_info": {
   "codemirror_mode": {
    "name": "ipython",
    "version": 3
   },
   "file_extension": ".py",
   "mimetype": "text/x-python",
   "name": "python",
   "nbconvert_exporter": "python",
   "pygments_lexer": "ipython3",
   "version": "3.11.6"
  }
 },
 "nbformat": 4,
 "nbformat_minor": 2
}
